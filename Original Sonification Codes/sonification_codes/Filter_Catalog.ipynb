{
 "cells": [
  {
   "cell_type": "code",
   "execution_count": 2,
   "metadata": {},
   "outputs": [],
   "source": [
    "import pandas as pd\n",
    "import numpy as np\n",
    "from datetime import datetime"
   ]
  },
  {
   "cell_type": "code",
   "execution_count": 3,
   "metadata": {},
   "outputs": [
    {
     "name": "stdout",
     "output_type": "stream",
     "text": [
      "Index(['time', 'latitude', 'longitude', 'depth', 'mag',\n",
      "       'dist from Halemaumau (degrees)', 'id', 'type', 'horizontalError',\n",
      "       'depthError', 'magError'],\n",
      "      dtype='object')\n"
     ]
    }
   ],
   "source": [
    "cat_path = './'\n",
    "data = pd.read_csv(cat_path+\"EQ_Eruption_Catalog_4_1_2018_8_30_2018_HVO.csv\") \n",
    "print(data.columns)"
   ]
  },
  {
   "cell_type": "code",
   "execution_count": 5,
   "metadata": {},
   "outputs": [
    {
     "name": "stdout",
     "output_type": "stream",
     "text": [
      "2018-06-02 03:43:36\n",
      "0    zoom1cycle\n",
      "Name: title, dtype: object\n",
      "./infopickles/movieInfo_zoom1cycle.pkl\n"
     ]
    }
   ],
   "source": [
    "# make pickles of area lat lon, time window and mag threshold. \n",
    "movieID = 4\n",
    "\n",
    "movieInfo = pd.DataFrame({'lat_min':[],'lat_max':[],'lon_min':[],'lon_max':[],'start_dateUTC':[],'end_dateUTC':[],'minMag':[],'title':[]})\n",
    "# time format: pd.Timestamp(year,mo,day,hour,minute,sec,microsec)\n",
    "\n",
    "if movieID==1:\n",
    "    movieInfo.title = ['full']\n",
    "    movieInfo.lat_min = 19.178333300000002\n",
    "    movieInfo.lat_max = 19.546833\n",
    "    movieInfo.lon_min = -154.7991667\n",
    "    movieInfo.lon_max = -155.4889984\n",
    "    \n",
    "    movieInfo.start_timestamp = pd.Timestamp(2018,4,1,6,59,2,810000)\n",
    "    movieInfo.end_timestamp = pd.Timestamp(2018,8,30,22,31,16,570000)\n",
    "    movieInfo.minMag = 2.5\n",
    "    \n",
    "if movieID==2:\n",
    "    movieInfo.title = ['zoom']\n",
    "    movieInfo.lat_min = 19.365964975838335\n",
    "    movieInfo.lat_max = 19.45502134426063\n",
    "    movieInfo.lon_min = -155.3270365580801\n",
    "    movieInfo.lon_max = -155.20426605913994\n",
    "    movieInfo.start_timestamp = pd.Timestamp(2018,5,31,0,48,2,30000)\n",
    "    movieInfo.end_timestamp = pd.Timestamp(2018,8,8,0,19,41,680000)\n",
    "    movieInfo.minMag = 2.3\n",
    "    \n",
    "if movieID==3:\n",
    "    movieInfo.title = ['zoom2cycles']\n",
    "    movieInfo.lat_min = 19.365964975838335\n",
    "    movieInfo.lat_max = 19.45502134426063\n",
    "    movieInfo.lon_min = -155.3270365580801\n",
    "    movieInfo.lon_max = -155.20426605913994\n",
    "    movieInfo.start_timestamp = pd.Timestamp(2018,7,2,11,47,50,950000)\n",
    "    movieInfo.end_timestamp = pd.Timestamp(2018,7,3,19,20,0,210000)\n",
    "    movieInfo.minMag = 1.5\n",
    "    \n",
    "if movieID==4:\n",
    "    movieInfo.title = ['zoom1cycle']\n",
    "    movieInfo.lat_min = 19.365964975838335\n",
    "    movieInfo.lat_max = 19.45502134426063\n",
    "    movieInfo.lon_min = -155.3270365580801\n",
    "    movieInfo.lon_max = -155.20426605913994\n",
    "    movieInfo.start_timestamp = pd.Timestamp(2018,6,2,3,43,36,0)\n",
    "    movieInfo.end_timestamp = pd.Timestamp(2018,6,4,7,50,59,0)\n",
    "    movieInfo.minMag = 1.5\n",
    "        \n",
    "print(movieInfo.start_timestamp)\n",
    "print(movieInfo.title)\n",
    "pkltext = './infopickles/movieInfo_'+ str(movieInfo.title[0])+'.pkl'\n",
    "print(pkltext)\n",
    "movieInfo.to_pickle(pkltext)"
   ]
  },
  {
   "cell_type": "code",
   "execution_count": null,
   "metadata": {},
   "outputs": [],
   "source": [
    "#Make the following filter process using info pickle"
   ]
  },
  {
   "cell_type": "code",
   "execution_count": 4,
   "metadata": {},
   "outputs": [],
   "source": [
    "data['utc_time'] = pd.to_datetime(data.time)\n",
    "\n",
    "time_min = data.time[4736]\n",
    "time_max = data.time[41090]\n",
    "\n",
    "data_filt = data[(data.latitude<lat_top_zoom) & (data.latitude>lat_bot_zoom) & (data.longitude<lon_right_zoom) & \n",
    "                 (data.longitude>lon_left_zoom) & (data.time>time_min) & (data.time<time_max)]\n"
   ]
  },
  {
   "cell_type": "code",
   "execution_count": 5,
   "metadata": {},
   "outputs": [
    {
     "data": {
      "text/plain": [
       "<matplotlib.axes._subplots.AxesSubplot at 0x10ea7cf28>"
      ]
     },
     "execution_count": 5,
     "metadata": {},
     "output_type": "execute_result"
    }
   ],
   "source": [
    "ax = data.plot(x = 'time',y = 'mag',figsize = (20,10))\n",
    "data_filt.plot(x = 'time',y = 'mag',ax = ax)\n",
    "\n",
    "#fig.set_xlim(time_min, time_max)"
   ]
  },
  {
   "cell_type": "code",
   "execution_count": 139,
   "metadata": {},
   "outputs": [
    {
     "name": "stdout",
     "output_type": "stream",
     "text": [
      "<class 'datetime.datetime'>\n"
     ]
    }
   ],
   "source": [
    "utc_time = datetime.strptime(data.time.iloc[2], \"%Y-%m-%dT%H:%M:%S.%fZ\")\n",
    "utc_time<datetime.strptime(data.time.iloc[1], \"%Y-%m-%dT%H:%M:%S.%fZ\")\n",
    "\n",
    "print(type(utc_time))\n",
    "#data['utc_time'] = datetime.strptime(data.time, \"%Y-%m-%dT%H:%M:%S.%fZ\")"
   ]
  },
  {
   "cell_type": "code",
   "execution_count": 6,
   "metadata": {},
   "outputs": [
    {
     "data": {
      "text/html": [
       "<div>\n",
       "<style scoped>\n",
       "    .dataframe tbody tr th:only-of-type {\n",
       "        vertical-align: middle;\n",
       "    }\n",
       "\n",
       "    .dataframe tbody tr th {\n",
       "        vertical-align: top;\n",
       "    }\n",
       "\n",
       "    .dataframe thead th {\n",
       "        text-align: right;\n",
       "    }\n",
       "</style>\n",
       "<table border=\"1\" class=\"dataframe\">\n",
       "  <thead>\n",
       "    <tr style=\"text-align: right;\">\n",
       "      <th></th>\n",
       "      <th>time</th>\n",
       "      <th>latitude</th>\n",
       "      <th>longitude</th>\n",
       "      <th>depth</th>\n",
       "      <th>mag</th>\n",
       "      <th>dist from Halemaumau (degrees)</th>\n",
       "      <th>id</th>\n",
       "      <th>type</th>\n",
       "      <th>horizontalError</th>\n",
       "      <th>depthError</th>\n",
       "      <th>magError</th>\n",
       "      <th>utc_time</th>\n",
       "    </tr>\n",
       "  </thead>\n",
       "  <tbody>\n",
       "    <tr>\n",
       "      <th>4737</th>\n",
       "      <td>2018-05-31T01:35:04.020Z</td>\n",
       "      <td>19.389833</td>\n",
       "      <td>-155.269333</td>\n",
       "      <td>0.50</td>\n",
       "      <td>2.21</td>\n",
       "      <td>0.019135</td>\n",
       "      <td>hv70211332</td>\n",
       "      <td>earthquake</td>\n",
       "      <td>0.33</td>\n",
       "      <td>0.27</td>\n",
       "      <td>0.36</td>\n",
       "      <td>2018-05-31 01:35:04.020000+00:00</td>\n",
       "    </tr>\n",
       "    <tr>\n",
       "      <th>4738</th>\n",
       "      <td>2018-05-31T01:54:35.550Z</td>\n",
       "      <td>19.428499</td>\n",
       "      <td>-155.304504</td>\n",
       "      <td>1.48</td>\n",
       "      <td>1.74</td>\n",
       "      <td>0.033237</td>\n",
       "      <td>hv70211377</td>\n",
       "      <td>earthquake</td>\n",
       "      <td>0.98</td>\n",
       "      <td>0.42</td>\n",
       "      <td>0.13</td>\n",
       "      <td>2018-05-31 01:54:35.550000+00:00</td>\n",
       "    </tr>\n",
       "    <tr>\n",
       "      <th>4739</th>\n",
       "      <td>2018-05-31T03:20:24.410Z</td>\n",
       "      <td>19.434833</td>\n",
       "      <td>-155.267670</td>\n",
       "      <td>0.80</td>\n",
       "      <td>1.95</td>\n",
       "      <td>0.032676</td>\n",
       "      <td>hv70211552</td>\n",
       "      <td>earthquake</td>\n",
       "      <td>0.83</td>\n",
       "      <td>0.51</td>\n",
       "      <td>0.33</td>\n",
       "      <td>2018-05-31 03:20:24.410000+00:00</td>\n",
       "    </tr>\n",
       "    <tr>\n",
       "      <th>4741</th>\n",
       "      <td>2018-05-31T05:01:19.080Z</td>\n",
       "      <td>19.412167</td>\n",
       "      <td>-155.278671</td>\n",
       "      <td>0.92</td>\n",
       "      <td>2.68</td>\n",
       "      <td>0.007535</td>\n",
       "      <td>hv70211777</td>\n",
       "      <td>earthquake</td>\n",
       "      <td>0.30</td>\n",
       "      <td>0.14</td>\n",
       "      <td>1.97</td>\n",
       "      <td>2018-05-31 05:01:19.080000+00:00</td>\n",
       "    </tr>\n",
       "    <tr>\n",
       "      <th>4742</th>\n",
       "      <td>2018-05-31T05:16:12.560Z</td>\n",
       "      <td>19.396000</td>\n",
       "      <td>-155.299835</td>\n",
       "      <td>2.30</td>\n",
       "      <td>1.91</td>\n",
       "      <td>0.020875</td>\n",
       "      <td>hv70211817</td>\n",
       "      <td>earthquake</td>\n",
       "      <td>0.95</td>\n",
       "      <td>0.63</td>\n",
       "      <td>0.28</td>\n",
       "      <td>2018-05-31 05:16:12.560000+00:00</td>\n",
       "    </tr>\n",
       "  </tbody>\n",
       "</table>\n",
       "</div>"
      ],
      "text/plain": [
       "                          time   latitude   longitude  depth   mag  \\\n",
       "4737  2018-05-31T01:35:04.020Z  19.389833 -155.269333   0.50  2.21   \n",
       "4738  2018-05-31T01:54:35.550Z  19.428499 -155.304504   1.48  1.74   \n",
       "4739  2018-05-31T03:20:24.410Z  19.434833 -155.267670   0.80  1.95   \n",
       "4741  2018-05-31T05:01:19.080Z  19.412167 -155.278671   0.92  2.68   \n",
       "4742  2018-05-31T05:16:12.560Z  19.396000 -155.299835   2.30  1.91   \n",
       "\n",
       "      dist from Halemaumau (degrees)          id        type  horizontalError  \\\n",
       "4737                        0.019135  hv70211332  earthquake             0.33   \n",
       "4738                        0.033237  hv70211377  earthquake             0.98   \n",
       "4739                        0.032676  hv70211552  earthquake             0.83   \n",
       "4741                        0.007535  hv70211777  earthquake             0.30   \n",
       "4742                        0.020875  hv70211817  earthquake             0.95   \n",
       "\n",
       "      depthError  magError                         utc_time  \n",
       "4737        0.27      0.36 2018-05-31 01:35:04.020000+00:00  \n",
       "4738        0.42      0.13 2018-05-31 01:54:35.550000+00:00  \n",
       "4739        0.51      0.33 2018-05-31 03:20:24.410000+00:00  \n",
       "4741        0.14      1.97 2018-05-31 05:01:19.080000+00:00  \n",
       "4742        0.63      0.28 2018-05-31 05:16:12.560000+00:00  "
      ]
     },
     "execution_count": 6,
     "metadata": {},
     "output_type": "execute_result"
    }
   ],
   "source": [
    "data_filt.head()"
   ]
  },
  {
   "cell_type": "code",
   "execution_count": 7,
   "metadata": {},
   "outputs": [],
   "source": [
    "data_filt.to_csv('filtered_catalog.csv',index = None)"
   ]
  },
  {
   "cell_type": "code",
   "execution_count": null,
   "metadata": {},
   "outputs": [],
   "source": [
    "### Make map using map making module send to earthquack"
   ]
  },
  {
   "cell_type": "code",
   "execution_count": 9,
   "metadata": {},
   "outputs": [
    {
     "name": "stdout",
     "output_type": "stream",
     "text": [
      "19.3659992\n",
      "19.454999899999997\n"
     ]
    }
   ],
   "source": [
    "### NOW data converter to earthquack format"
   ]
  },
  {
   "cell_type": "code",
   "execution_count": null,
   "metadata": {},
   "outputs": [],
   "source": []
  }
 ],
 "metadata": {
  "kernelspec": {
   "display_name": "Python 3",
   "language": "python",
   "name": "python3"
  },
  "language_info": {
   "codemirror_mode": {
    "name": "ipython",
    "version": 3
   },
   "file_extension": ".py",
   "mimetype": "text/x-python",
   "name": "python",
   "nbconvert_exporter": "python",
   "pygments_lexer": "ipython3",
   "version": "3.7.6"
  }
 },
 "nbformat": 4,
 "nbformat_minor": 4
}
