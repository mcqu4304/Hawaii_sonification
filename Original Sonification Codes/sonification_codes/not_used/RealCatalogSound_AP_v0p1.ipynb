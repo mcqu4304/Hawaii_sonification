{
 "cells": [
  {
   "cell_type": "code",
   "execution_count": 3,
   "metadata": {},
   "outputs": [],
   "source": [
    "import matplotlib.pyplot as plt\n",
    "%matplotlib inline\n",
    "import numpy as np\n",
    "import pandas as pd\n",
    "import obspy\n",
    "import librosa\n",
    "import resampy\n",
    "\n",
    "import os.path"
   ]
  },
  {
   "cell_type": "markdown",
   "metadata": {},
   "source": [
    "# Catalog"
   ]
  },
  {
   "cell_type": "code",
   "execution_count": 4,
   "metadata": {},
   "outputs": [
    {
     "ename": "FileNotFoundError",
     "evalue": "[Errno 2] File b'/Volumes/linux/ML_data/NWGeysers/GeysersNW_data/GGF_N.DD.v201412.1' does not exist: b'/Volumes/linux/ML_data/NWGeysers/GeysersNW_data/GGF_N.DD.v201412.1'",
     "output_type": "error",
     "traceback": [
      "\u001b[0;31m---------------------------------------------------------------------------\u001b[0m",
      "\u001b[0;31mFileNotFoundError\u001b[0m                         Traceback (most recent call last)",
      "\u001b[0;32m<ipython-input-4-8fa8d68bba27>\u001b[0m in \u001b[0;36m<module>\u001b[0;34m\u001b[0m\n\u001b[1;32m      6\u001b[0m \u001b[0;34m\u001b[0m\u001b[0m\n\u001b[1;32m      7\u001b[0m tab = pd.read_csv(DirCatalog + FileCatalog, header=None, delimiter=' ', \\\n\u001b[0;32m----> 8\u001b[0;31m                  names = ['years','months','days','hours','minutes','seconds','lat','lon','dep','mag','id'])\n\u001b[0m\u001b[1;32m      9\u001b[0m \u001b[0;34m\u001b[0m\u001b[0m\n\u001b[1;32m     10\u001b[0m \u001b[0mprint\u001b[0m\u001b[0;34m(\u001b[0m\u001b[0;34m'The catalog is a dataframe of size '\u001b[0m \u001b[0;34m+\u001b[0m \u001b[0mstr\u001b[0m\u001b[0;34m(\u001b[0m\u001b[0mtab\u001b[0m\u001b[0;34m.\u001b[0m\u001b[0mshape\u001b[0m\u001b[0;34m)\u001b[0m\u001b[0;34m)\u001b[0m\u001b[0;34m\u001b[0m\u001b[0;34m\u001b[0m\u001b[0m\n",
      "\u001b[0;32m~/anaconda3/envs/obspy/lib/python3.7/site-packages/pandas/io/parsers.py\u001b[0m in \u001b[0;36mparser_f\u001b[0;34m(filepath_or_buffer, sep, delimiter, header, names, index_col, usecols, squeeze, prefix, mangle_dupe_cols, dtype, engine, converters, true_values, false_values, skipinitialspace, skiprows, skipfooter, nrows, na_values, keep_default_na, na_filter, verbose, skip_blank_lines, parse_dates, infer_datetime_format, keep_date_col, date_parser, dayfirst, iterator, chunksize, compression, thousands, decimal, lineterminator, quotechar, quoting, doublequote, escapechar, comment, encoding, dialect, tupleize_cols, error_bad_lines, warn_bad_lines, delim_whitespace, low_memory, memory_map, float_precision)\u001b[0m\n\u001b[1;32m    700\u001b[0m                     skip_blank_lines=skip_blank_lines)\n\u001b[1;32m    701\u001b[0m \u001b[0;34m\u001b[0m\u001b[0m\n\u001b[0;32m--> 702\u001b[0;31m         \u001b[0;32mreturn\u001b[0m \u001b[0m_read\u001b[0m\u001b[0;34m(\u001b[0m\u001b[0mfilepath_or_buffer\u001b[0m\u001b[0;34m,\u001b[0m \u001b[0mkwds\u001b[0m\u001b[0;34m)\u001b[0m\u001b[0;34m\u001b[0m\u001b[0;34m\u001b[0m\u001b[0m\n\u001b[0m\u001b[1;32m    703\u001b[0m \u001b[0;34m\u001b[0m\u001b[0m\n\u001b[1;32m    704\u001b[0m     \u001b[0mparser_f\u001b[0m\u001b[0;34m.\u001b[0m\u001b[0m__name__\u001b[0m \u001b[0;34m=\u001b[0m \u001b[0mname\u001b[0m\u001b[0;34m\u001b[0m\u001b[0;34m\u001b[0m\u001b[0m\n",
      "\u001b[0;32m~/anaconda3/envs/obspy/lib/python3.7/site-packages/pandas/io/parsers.py\u001b[0m in \u001b[0;36m_read\u001b[0;34m(filepath_or_buffer, kwds)\u001b[0m\n\u001b[1;32m    427\u001b[0m \u001b[0;34m\u001b[0m\u001b[0m\n\u001b[1;32m    428\u001b[0m     \u001b[0;31m# Create the parser.\u001b[0m\u001b[0;34m\u001b[0m\u001b[0;34m\u001b[0m\u001b[0;34m\u001b[0m\u001b[0m\n\u001b[0;32m--> 429\u001b[0;31m     \u001b[0mparser\u001b[0m \u001b[0;34m=\u001b[0m \u001b[0mTextFileReader\u001b[0m\u001b[0;34m(\u001b[0m\u001b[0mfilepath_or_buffer\u001b[0m\u001b[0;34m,\u001b[0m \u001b[0;34m**\u001b[0m\u001b[0mkwds\u001b[0m\u001b[0;34m)\u001b[0m\u001b[0;34m\u001b[0m\u001b[0;34m\u001b[0m\u001b[0m\n\u001b[0m\u001b[1;32m    430\u001b[0m \u001b[0;34m\u001b[0m\u001b[0m\n\u001b[1;32m    431\u001b[0m     \u001b[0;32mif\u001b[0m \u001b[0mchunksize\u001b[0m \u001b[0;32mor\u001b[0m \u001b[0miterator\u001b[0m\u001b[0;34m:\u001b[0m\u001b[0;34m\u001b[0m\u001b[0;34m\u001b[0m\u001b[0m\n",
      "\u001b[0;32m~/anaconda3/envs/obspy/lib/python3.7/site-packages/pandas/io/parsers.py\u001b[0m in \u001b[0;36m__init__\u001b[0;34m(self, f, engine, **kwds)\u001b[0m\n\u001b[1;32m    893\u001b[0m             \u001b[0mself\u001b[0m\u001b[0;34m.\u001b[0m\u001b[0moptions\u001b[0m\u001b[0;34m[\u001b[0m\u001b[0;34m'has_index_names'\u001b[0m\u001b[0;34m]\u001b[0m \u001b[0;34m=\u001b[0m \u001b[0mkwds\u001b[0m\u001b[0;34m[\u001b[0m\u001b[0;34m'has_index_names'\u001b[0m\u001b[0;34m]\u001b[0m\u001b[0;34m\u001b[0m\u001b[0;34m\u001b[0m\u001b[0m\n\u001b[1;32m    894\u001b[0m \u001b[0;34m\u001b[0m\u001b[0m\n\u001b[0;32m--> 895\u001b[0;31m         \u001b[0mself\u001b[0m\u001b[0;34m.\u001b[0m\u001b[0m_make_engine\u001b[0m\u001b[0;34m(\u001b[0m\u001b[0mself\u001b[0m\u001b[0;34m.\u001b[0m\u001b[0mengine\u001b[0m\u001b[0;34m)\u001b[0m\u001b[0;34m\u001b[0m\u001b[0;34m\u001b[0m\u001b[0m\n\u001b[0m\u001b[1;32m    896\u001b[0m \u001b[0;34m\u001b[0m\u001b[0m\n\u001b[1;32m    897\u001b[0m     \u001b[0;32mdef\u001b[0m \u001b[0mclose\u001b[0m\u001b[0;34m(\u001b[0m\u001b[0mself\u001b[0m\u001b[0;34m)\u001b[0m\u001b[0;34m:\u001b[0m\u001b[0;34m\u001b[0m\u001b[0;34m\u001b[0m\u001b[0m\n",
      "\u001b[0;32m~/anaconda3/envs/obspy/lib/python3.7/site-packages/pandas/io/parsers.py\u001b[0m in \u001b[0;36m_make_engine\u001b[0;34m(self, engine)\u001b[0m\n\u001b[1;32m   1120\u001b[0m     \u001b[0;32mdef\u001b[0m \u001b[0m_make_engine\u001b[0m\u001b[0;34m(\u001b[0m\u001b[0mself\u001b[0m\u001b[0;34m,\u001b[0m \u001b[0mengine\u001b[0m\u001b[0;34m=\u001b[0m\u001b[0;34m'c'\u001b[0m\u001b[0;34m)\u001b[0m\u001b[0;34m:\u001b[0m\u001b[0;34m\u001b[0m\u001b[0;34m\u001b[0m\u001b[0m\n\u001b[1;32m   1121\u001b[0m         \u001b[0;32mif\u001b[0m \u001b[0mengine\u001b[0m \u001b[0;34m==\u001b[0m \u001b[0;34m'c'\u001b[0m\u001b[0;34m:\u001b[0m\u001b[0;34m\u001b[0m\u001b[0;34m\u001b[0m\u001b[0m\n\u001b[0;32m-> 1122\u001b[0;31m             \u001b[0mself\u001b[0m\u001b[0;34m.\u001b[0m\u001b[0m_engine\u001b[0m \u001b[0;34m=\u001b[0m \u001b[0mCParserWrapper\u001b[0m\u001b[0;34m(\u001b[0m\u001b[0mself\u001b[0m\u001b[0;34m.\u001b[0m\u001b[0mf\u001b[0m\u001b[0;34m,\u001b[0m \u001b[0;34m**\u001b[0m\u001b[0mself\u001b[0m\u001b[0;34m.\u001b[0m\u001b[0moptions\u001b[0m\u001b[0;34m)\u001b[0m\u001b[0;34m\u001b[0m\u001b[0;34m\u001b[0m\u001b[0m\n\u001b[0m\u001b[1;32m   1123\u001b[0m         \u001b[0;32melse\u001b[0m\u001b[0;34m:\u001b[0m\u001b[0;34m\u001b[0m\u001b[0;34m\u001b[0m\u001b[0m\n\u001b[1;32m   1124\u001b[0m             \u001b[0;32mif\u001b[0m \u001b[0mengine\u001b[0m \u001b[0;34m==\u001b[0m \u001b[0;34m'python'\u001b[0m\u001b[0;34m:\u001b[0m\u001b[0;34m\u001b[0m\u001b[0;34m\u001b[0m\u001b[0m\n",
      "\u001b[0;32m~/anaconda3/envs/obspy/lib/python3.7/site-packages/pandas/io/parsers.py\u001b[0m in \u001b[0;36m__init__\u001b[0;34m(self, src, **kwds)\u001b[0m\n\u001b[1;32m   1851\u001b[0m         \u001b[0mkwds\u001b[0m\u001b[0;34m[\u001b[0m\u001b[0;34m'usecols'\u001b[0m\u001b[0;34m]\u001b[0m \u001b[0;34m=\u001b[0m \u001b[0mself\u001b[0m\u001b[0;34m.\u001b[0m\u001b[0musecols\u001b[0m\u001b[0;34m\u001b[0m\u001b[0;34m\u001b[0m\u001b[0m\n\u001b[1;32m   1852\u001b[0m \u001b[0;34m\u001b[0m\u001b[0m\n\u001b[0;32m-> 1853\u001b[0;31m         \u001b[0mself\u001b[0m\u001b[0;34m.\u001b[0m\u001b[0m_reader\u001b[0m \u001b[0;34m=\u001b[0m \u001b[0mparsers\u001b[0m\u001b[0;34m.\u001b[0m\u001b[0mTextReader\u001b[0m\u001b[0;34m(\u001b[0m\u001b[0msrc\u001b[0m\u001b[0;34m,\u001b[0m \u001b[0;34m**\u001b[0m\u001b[0mkwds\u001b[0m\u001b[0;34m)\u001b[0m\u001b[0;34m\u001b[0m\u001b[0;34m\u001b[0m\u001b[0m\n\u001b[0m\u001b[1;32m   1854\u001b[0m         \u001b[0mself\u001b[0m\u001b[0;34m.\u001b[0m\u001b[0munnamed_cols\u001b[0m \u001b[0;34m=\u001b[0m \u001b[0mself\u001b[0m\u001b[0;34m.\u001b[0m\u001b[0m_reader\u001b[0m\u001b[0;34m.\u001b[0m\u001b[0munnamed_cols\u001b[0m\u001b[0;34m\u001b[0m\u001b[0;34m\u001b[0m\u001b[0m\n\u001b[1;32m   1855\u001b[0m \u001b[0;34m\u001b[0m\u001b[0m\n",
      "\u001b[0;32mpandas/_libs/parsers.pyx\u001b[0m in \u001b[0;36mpandas._libs.parsers.TextReader.__cinit__\u001b[0;34m()\u001b[0m\n",
      "\u001b[0;32mpandas/_libs/parsers.pyx\u001b[0m in \u001b[0;36mpandas._libs.parsers.TextReader._setup_parser_source\u001b[0;34m()\u001b[0m\n",
      "\u001b[0;31mFileNotFoundError\u001b[0m: [Errno 2] File b'/Volumes/linux/ML_data/NWGeysers/GeysersNW_data/GGF_N.DD.v201412.1' does not exist: b'/Volumes/linux/ML_data/NWGeysers/GeysersNW_data/GGF_N.DD.v201412.1'"
     ]
    }
   ],
   "source": [
    "# DirCatalog = 'data/'\n",
    "DirCatalog = '/home/ben/data/GeysersNW_data/'  # for waveforms, add /AL4/\n",
    "DirCatalog = '/Volumes/linux/ML_data/NWGeysers/GeysersNW_data/'\n",
    "FileCatalog = 'GGF_N.DD.v201412.1'\n",
    "#FileCatalog = 'GGF_N.DD.v201412_short.txt'\n",
    "\n",
    "tab = pd.read_csv(DirCatalog + FileCatalog, header=None, delimiter=' ', \\\n",
    "                 names = ['years','months','days','hours','minutes','seconds','lat','lon','dep','mag','id'])\n",
    "\n",
    "print('The catalog is a dataframe of size ' + str(tab.shape))\n",
    "\n",
    "print('I will assume (correct me if I\\'m wrong) that the fields are:\\n\\t year\\n\\t month\\n\\t day\\n\\t hour\\n\\t minute\\n\\t seconds\\n\\t latitude\\n\\t longitude\\n\\t depth\\n\\t magnitude\\n\\t id')\n",
    "\n",
    "print('There are ' + str(len(tab['years'])) + ' events')"
   ]
  },
  {
   "cell_type": "code",
   "execution_count": 2,
   "metadata": {},
   "outputs": [
    {
     "ename": "NameError",
     "evalue": "name 'np' is not defined",
     "output_type": "error",
     "traceback": [
      "\u001b[0;31m---------------------------------------------------------------------------\u001b[0m",
      "\u001b[0;31mNameError\u001b[0m                                 Traceback (most recent call last)",
      "\u001b[0;32m<ipython-input-2-3040d1be0ae7>\u001b[0m in \u001b[0;36m<module>\u001b[0;34m\u001b[0m\n\u001b[1;32m      1\u001b[0m \u001b[0;31m# Get the start time of each event as a timestamp\u001b[0m\u001b[0;34m\u001b[0m\u001b[0;34m\u001b[0m\u001b[0;34m\u001b[0m\u001b[0m\n\u001b[0;32m----> 2\u001b[0;31m \u001b[0mstarttimes\u001b[0m \u001b[0;34m=\u001b[0m \u001b[0mnp\u001b[0m\u001b[0;34m.\u001b[0m\u001b[0mzeros\u001b[0m\u001b[0;34m(\u001b[0m\u001b[0mlen\u001b[0m\u001b[0;34m(\u001b[0m\u001b[0mtab\u001b[0m\u001b[0;34m[\u001b[0m\u001b[0;34m'years'\u001b[0m\u001b[0;34m]\u001b[0m\u001b[0;34m)\u001b[0m\u001b[0;34m)\u001b[0m\u001b[0;34m\u001b[0m\u001b[0;34m\u001b[0m\u001b[0m\n\u001b[0m\u001b[1;32m      3\u001b[0m \u001b[0;32mfor\u001b[0m \u001b[0mk\u001b[0m \u001b[0;32min\u001b[0m \u001b[0mrange\u001b[0m\u001b[0;34m(\u001b[0m\u001b[0;36m0\u001b[0m\u001b[0;34m,\u001b[0m\u001b[0mlen\u001b[0m\u001b[0;34m(\u001b[0m\u001b[0mtab\u001b[0m\u001b[0;34m[\u001b[0m\u001b[0;34m'years'\u001b[0m\u001b[0;34m]\u001b[0m\u001b[0;34m)\u001b[0m\u001b[0;34m)\u001b[0m\u001b[0;34m:\u001b[0m\u001b[0;34m\u001b[0m\u001b[0;34m\u001b[0m\u001b[0m\n\u001b[1;32m      4\u001b[0m     \u001b[0mstarttimes\u001b[0m\u001b[0;34m[\u001b[0m\u001b[0mk\u001b[0m\u001b[0;34m]\u001b[0m \u001b[0;34m=\u001b[0m \u001b[0mobspy\u001b[0m\u001b[0;34m.\u001b[0m\u001b[0mUTCDateTime\u001b[0m\u001b[0;34m(\u001b[0m\u001b[0mtab\u001b[0m\u001b[0;34m[\u001b[0m\u001b[0;34m'years'\u001b[0m\u001b[0;34m]\u001b[0m\u001b[0;34m[\u001b[0m\u001b[0mk\u001b[0m\u001b[0;34m]\u001b[0m\u001b[0;34m,\u001b[0m\u001b[0mtab\u001b[0m\u001b[0;34m[\u001b[0m\u001b[0;34m'months'\u001b[0m\u001b[0;34m]\u001b[0m\u001b[0;34m[\u001b[0m\u001b[0mk\u001b[0m\u001b[0;34m]\u001b[0m\u001b[0;34m,\u001b[0m\u001b[0mtab\u001b[0m\u001b[0;34m[\u001b[0m\u001b[0;34m'days'\u001b[0m\u001b[0;34m]\u001b[0m\u001b[0;34m[\u001b[0m\u001b[0mk\u001b[0m\u001b[0;34m]\u001b[0m\u001b[0;34m,\u001b[0m\u001b[0mtab\u001b[0m\u001b[0;34m[\u001b[0m\u001b[0;34m'hours'\u001b[0m\u001b[0;34m]\u001b[0m\u001b[0;34m[\u001b[0m\u001b[0mk\u001b[0m\u001b[0;34m]\u001b[0m\u001b[0;34m,\u001b[0m\u001b[0mtab\u001b[0m\u001b[0;34m[\u001b[0m\u001b[0;34m'minutes'\u001b[0m\u001b[0;34m]\u001b[0m\u001b[0;34m[\u001b[0m\u001b[0mk\u001b[0m\u001b[0;34m]\u001b[0m\u001b[0;34m,\u001b[0m\u001b[0mtab\u001b[0m\u001b[0;34m[\u001b[0m\u001b[0;34m'seconds'\u001b[0m\u001b[0;34m]\u001b[0m\u001b[0;34m[\u001b[0m\u001b[0mk\u001b[0m\u001b[0;34m]\u001b[0m\u001b[0;34m)\u001b[0m\u001b[0;34m.\u001b[0m\u001b[0mtimestamp\u001b[0m\u001b[0;34m\u001b[0m\u001b[0;34m\u001b[0m\u001b[0m\n\u001b[1;32m      5\u001b[0m \u001b[0;34m\u001b[0m\u001b[0m\n",
      "\u001b[0;31mNameError\u001b[0m: name 'np' is not defined"
     ]
    }
   ],
   "source": [
    "# Get the start time of each event as a timestamp\n",
    "starttimes = np.zeros(len(tab['years']))\n",
    "for k in range(0,len(tab['years'])):\n",
    "    starttimes[k] = obspy.UTCDateTime(tab['years'][k],tab['months'][k],tab['days'][k],tab['hours'][k],tab['minutes'][k],tab['seconds'][k]).timestamp\n",
    "    \n",
    "tab['starttimes'] = pd.Series(starttimes) # and put it in the dataframe\n",
    "print(tab['years'].iloc[0],tab['years'].iloc[-1])\n",
    "plt.plot(tab['starttimes'])\n",
    "plt.xlabel('event number in sequence')\n",
    "plt.ylabel('start time (data time, s)')\n",
    "\n",
    "print(tab['starttimes'][0])"
   ]
  },
  {
   "cell_type": "code",
   "execution_count": 4,
   "metadata": {},
   "outputs": [
    {
     "name": "stdout",
     "output_type": "stream",
     "text": [
      "There are 6714 events left\n"
     ]
    },
    {
     "data": {
      "text/plain": [
       "Text(0,0.5,'start time (movie time, s)')"
      ]
     },
     "execution_count": 4,
     "metadata": {},
     "output_type": "execute_result"
    },
    {
     "data": {
      "image/png": "[encoded data removed]",
      "text/plain": [
       "<matplotlib.figure.Figure at 0x1c126b7e10>"
      ]
     },
     "metadata": {},
     "output_type": "display_data"
    }
   ],
   "source": [
    "# Sort the dataframe according to time stamps\n",
    "tab = tab.sort_values(by=['starttimes'])\n",
    "\n",
    "# And reset indices\n",
    "tab = tab.reset_index()\n",
    "NbEvents = len(tab['years'])\n",
    "print('There are ' + str(NbEvents) + ' events left')\n",
    "\n",
    "plt.plot(tab.starttimes)\n",
    "plt.xlabel('event number in sequence')\n",
    "plt.ylabel('start time (movie time, s)')"
   ]
  },
  {
   "cell_type": "code",
   "execution_count": 5,
   "metadata": {},
   "outputs": [
    {
     "name": "stdout",
     "output_type": "stream",
     "text": [
      "There remain 4505 events\n",
      "The biggest is 3.2\n"
     ]
    }
   ],
   "source": [
    "# Get rid of events of lower magnitude\n",
    "minMag = 0.5\n",
    "tab = tab.drop(tab[tab['mag'] < minMag].index)\n",
    "N_evts = len(tab['mag'])\n",
    "print('There remain ' + str(N_evts) + ' events')\n",
    "maxMag = np.amax(tab['mag'])\n",
    "print('The biggest is ' + str(maxMag))\n",
    "# And reset indices\n",
    "tab = tab.reset_index()\n",
    "\n",
    "#print(tab)"
   ]
  },
  {
   "cell_type": "code",
   "execution_count": 8,
   "metadata": {},
   "outputs": [
    {
     "data": {
      "text/plain": [
       "Text(0,0.5,'magnitude')"
      ]
     },
     "execution_count": 8,
     "metadata": {},
     "output_type": "execute_result"
    },
    {
     "data": {
      "image/png": "[encoded data removed]",
      "text/plain": [
       "<matplotlib.figure.Figure at 0x1c130af518>"
      ]
     },
     "metadata": {},
     "output_type": "display_data"
    }
   ],
   "source": [
    "fig = plt.figure(figsize = (5,3))\n",
    "titletext = 'Events: ' + str(tab['years'].iloc[0])+ '-' + str(tab['years'].iloc[-1])\n",
    "\n",
    "#plt.plot(time_years,tab['mag'],'.k')\n",
    "plt.plot(tab['starttimes'],tab['mag'],'.k')\n",
    "plt.title(titletext)\n",
    "plt.xlabel('time [UTC]')\n",
    "plt.ylabel('magnitude')"
   ]
  },
  {
   "cell_type": "code",
   "execution_count": 9,
   "metadata": {},
   "outputs": [],
   "source": [
    "fig_path = './'\n",
    "figname_map = fig_path + 'catalog_plot' +'.png'\n",
    "fig.savefig(figname_map, pad_inches=0.0, bbox_inches='tight', dpi=300)"
   ]
  },
  {
   "cell_type": "markdown",
   "metadata": {},
   "source": [
    "# Movie parameters"
   ]
  },
  {
   "cell_type": "code",
   "execution_count": 10,
   "metadata": {},
   "outputs": [],
   "source": [
    "#movie_duration = 30.0 # in seconds\n",
    "movie_duration = 45.0 # in seconds\n",
    "movie_dt = 1/29.97 #0.1 # in seconds\n",
    "movie_t = np.arange(0,movie_duration,movie_dt) \n",
    "# what is this movie dt ?  10 frames per sec? "
   ]
  },
  {
   "cell_type": "code",
   "execution_count": 11,
   "metadata": {},
   "outputs": [],
   "source": [
    "# rescale data start times to movie time\n",
    "max_starttime = np.amax(tab['starttimes']-tab['starttimes'][0])\n",
    "movie_starttimes = (tab['starttimes']-tab['starttimes'][0])*movie_duration/max_starttime\n",
    "#print(movie_starttimes)"
   ]
  },
  {
   "cell_type": "markdown",
   "metadata": {},
   "source": [
    "# Sound parameters"
   ]
  },
  {
   "cell_type": "code",
   "execution_count": 12,
   "metadata": {},
   "outputs": [
    {
     "name": "stdout",
     "output_type": "stream",
     "text": [
      "50.0\n",
      "1984500\n"
     ]
    }
   ],
   "source": [
    "\n",
    "real_event_dur = 20.0 # seconds\n",
    "new_event_dur = 0.4 # seconds  0.1 is too fast\n",
    "SpeedFactor = real_event_dur/new_event_dur\n",
    "print(SpeedFactor)\n",
    "\n",
    "audio_sr = 44100\n",
    "\n",
    "SoundTrack = np.zeros(int(movie_duration*audio_sr))\n",
    "print(len(SoundTrack))"
   ]
  },
  {
   "cell_type": "markdown",
   "metadata": {},
   "source": [
    "# Data parameters"
   ]
  },
  {
   "cell_type": "code",
   "execution_count": 13,
   "metadata": {},
   "outputs": [
    {
     "name": "stdout",
     "output_type": "stream",
     "text": [
      "/Volumes/linux/ML_data/NWGeysers/GeysersNW_data/AL4/\n"
     ]
    }
   ],
   "source": [
    "DirData = DirCatalog + 'AL4/'\n",
    "data_sr = 500.\n",
    "print(DirData)"
   ]
  },
  {
   "cell_type": "code",
   "execution_count": 14,
   "metadata": {},
   "outputs": [],
   "source": [
    "def makefilenamestring(currentjulday):\n",
    "    if currentjulday < 10:\n",
    "        strjulday = '00' + str(currentjulday)\n",
    "    elif currentjulday < 100:\n",
    "        strjulday = '0' + str(currentjulday)\n",
    "    else:\n",
    "        strjulday = str(currentjulday)\n",
    "    \n",
    "    currenthour = tab['hours'][k]\n",
    "    if currenthour < 10:\n",
    "        strhour = '0' + str(currenthour)\n",
    "    else:\n",
    "        strhour = str(currenthour)\n",
    "\n",
    "    currentminute = tab['minutes'][k]\n",
    "    if currentminute < 10:\n",
    "        strminute = '0' + str(currentminute)\n",
    "    else: \n",
    "        strminute = str(currentminute)\n",
    "\n",
    "    currentsecond = int(np.floor(tab['seconds'][k]))\n",
    "    if currentsecond < 10:\n",
    "        strsecond = '0' + str(currentsecond)\n",
    "    else: \n",
    "        strsecond = str(currentsecond)\n",
    "\n",
    "    current_filename = 'AL4.BG.DPZ..D.' + str(tab['years'][k]) + '.' + strjulday + '.' + strhour + strminute + strsecond + '.' + str(tab['id'][k])\n",
    "    #print(current_filename)\n",
    "    return current_filename"
   ]
  },
  {
   "cell_type": "code",
   "execution_count": 16,
   "metadata": {},
   "outputs": [
    {
     "name": "stdout",
     "output_type": "stream",
     "text": [
      "AL4.BG.DPZ..D.2014.308.195648.72334995\n",
      "waveform exists\n",
      "loading data\n"
     ]
    },
    {
     "data": {
      "text/plain": [
       "Text(0.5,1,'Speedfactor = 50.0, sr = 500 Hz')"
      ]
     },
     "execution_count": 16,
     "metadata": {},
     "output_type": "execute_result"
    },
    {
     "data": {
      "image/png": "[encoded data removed]",
      "text/plain": [
       "<matplotlib.figure.Figure at 0x105514208>"
      ]
     },
     "metadata": {},
     "output_type": "display_data"
    }
   ],
   "source": [
    "# run on a single event, to look.. \n",
    "k=N_evts-100\n",
    "\n",
    "current_id = tab['id'][k]\n",
    "currentjulday = obspy.UTCDateTime(tab['starttimes'][k]).julday\n",
    "# there is probably a more elegant way to do this :) \n",
    "current_filename = makefilenamestring(currentjulday)\n",
    "print(current_filename)\n",
    "\n",
    "if os.path.exists(DirData + current_filename): # Test if file exists\n",
    "    print('waveform exists')\n",
    "    if movie_starttimes[k]+20/SpeedFactor < movie_duration: # Test if the data is not going beyond the limits we set for the sound track\n",
    "        # Load data\n",
    "        print('loading data')\n",
    "        data = obspy.read(DirData + current_filename)\n",
    "        data = data[0].data\n",
    "        \n",
    "        # Process only if the data is long enough (entire data should be 20 s @ 500 Hz)\n",
    "        if len(data) > .75*(20*data_sr): \n",
    "            data = data - np.mean(data) # de-mean\n",
    "            \n",
    "            # NORMALIZE AND SCALE BY MAGNITUDE !? \n",
    "            data = data/np.amax(np.absolute(data)) # normalize\n",
    "            data = data*(tab['mag'][k]/maxMag) # TEST -- linear mapping of magnitude to amplitude  \n",
    "\n",
    "            #t_data = np.arange(0,len(data)/data_sr,1/data_sr)\n",
    "            #plt.plot(t_data,data)\n",
    "            #plt.xlabel('t (s)')\n",
    "\n",
    "            data_resampled = resampy.resample(data, data_sr*SpeedFactor, audio_sr) # resample to audio rate\n",
    "            #t_resampled = np.arange(0,len(data_resampled)/audio_sr,1/audio_sr)\n",
    "            #plt.plot(t_resampled,data_resampled)\n",
    "\n",
    "            # Fill the appropriate part of the sound track with the newly audified data\n",
    "            SoundTrack[int(movie_starttimes[k]*audio_sr):int(movie_starttimes[k]*audio_sr+len(data_resampled))] = \\\n",
    "                SoundTrack[int(movie_starttimes[k]*audio_sr):int(movie_starttimes[k]*audio_sr+len(data_resampled))] + data_resampled\n",
    "        else:\n",
    "            print('\\t Not processing file ' + current_filename + ' because it would exceed the length of the soundtrack')\n",
    "else:\n",
    "    print('File ' + current_filename + ' does not exist...')\n",
    "    \n",
    "fig = plt.figure(figsize = (6,4))\n",
    "sigtime = np.linspace(0,20.0,len(data))  \n",
    "plt.plot(sigtime,data, 'k')\n",
    "titletext = 'Speedfactor = ' + str(SpeedFactor)+ ', sr = 500 Hz'\n",
    "plt.xlabel('time [s]')\n",
    "plt.ylabel('velocity')\n",
    "plt.title(titletext)"
   ]
  },
  {
   "cell_type": "code",
   "execution_count": 13,
   "metadata": {},
   "outputs": [],
   "source": [
    "fig_path = './'\n",
    "figname_map = fig_path + 'waveform' +'.png'\n",
    "fig.savefig(figname_map, pad_inches=0.0, bbox_inches='tight', dpi=300)"
   ]
  },
  {
   "cell_type": "markdown",
   "metadata": {},
   "source": [
    "## Filter and normalize and taper each signal -- -see Gaspard's code"
   ]
  },
  {
   "cell_type": "code",
   "execution_count": null,
   "metadata": {},
   "outputs": [],
   "source": []
  },
  {
   "cell_type": "code",
   "execution_count": null,
   "metadata": {},
   "outputs": [],
   "source": []
  },
  {
   "cell_type": "code",
   "execution_count": null,
   "metadata": {},
   "outputs": [],
   "source": []
  },
  {
   "cell_type": "code",
   "execution_count": 17,
   "metadata": {},
   "outputs": [
    {
     "name": "stdout",
     "output_type": "stream",
     "text": [
      "213 files not found\n"
     ]
    }
   ],
   "source": [
    "filenotfoundlist = []\n",
    "\n",
    "# ANY SCALING OF THE AMPLITUDE BY MAGNITUDE \n",
    "# or are all sounds normalized to same value ? \n",
    "\n",
    "for k in range(0,N_evts-1): #range(n,N+1)\n",
    "#for k in range(0,50):\n",
    "\n",
    "    current_id = tab['id'][k]\n",
    "    #print(current_id)\n",
    "\n",
    "    # Build the name of the file to load\n",
    "    currentjulday = obspy.UTCDateTime(tab['starttimes'][k]).julday\n",
    "    current_filename = makefilenamestring(currentjulday)\n",
    "    \n",
    "    if os.path.exists(DirData + current_filename): # Test if file exists\n",
    "        # Test if the data is not going beyond the limits we set for the sound track\n",
    "        # FIX this so that there is extra time at the end ! \n",
    "        if movie_starttimes[k]+20/SpeedFactor < movie_duration: \n",
    "            # Load data\n",
    "            data = obspy.read(DirData + current_filename)\n",
    "            data = data[0].data\n",
    "\n",
    "            if len(data) > .75*(20*data_sr): # Process only if the data is long enough (entire data should be 20 s @ 500 Hz)\n",
    "                data = data - np.mean(data) # de-mean\n",
    "                data = data/np.amax(np.absolute(data)) # normalize\n",
    "                data = data*(tab['mag'][k]/maxMag) # TEST -- linear mapping of magnitude to amplitude  \n",
    "\n",
    "                #t_data = np.arange(0,len(data)/data_sr,1/data_sr)\n",
    "                #plt.plot(t_data,data)\n",
    "                #plt.xlabel('t (s)')\n",
    "\n",
    "                data_resampled = resampy.resample(data, data_sr*SpeedFactor, audio_sr) # resample to audio rate\n",
    "                #t_resampled = np.arange(0,len(data_resampled)/audio_sr,1/audio_sr)\n",
    "                #plt.plot(t_resampled,data_resampled)\n",
    "\n",
    "                # Fill the appropriate part of the sound track with the newly audified data\n",
    "                SoundTrack[int(movie_starttimes[k]*audio_sr):int(movie_starttimes[k]*audio_sr+len(data_resampled))] = \\\n",
    "                    SoundTrack[int(movie_starttimes[k]*audio_sr):int(movie_starttimes[k]*audio_sr+len(data_resampled))] + data_resampled\n",
    "        else:\n",
    "            balbal = 2\n",
    "            #print('\\t Not processing file ' + current_filename + ' because it would exceed the length of the soundtrack')\n",
    "    else:\n",
    "        #print('File ' + current_filename + ' does not exist...')\n",
    "        filenotfoundlist.append(current_filename)\n",
    "        \n",
    "        \n",
    "print(str(len(filenotfoundlist))+' files not found')"
   ]
  },
  {
   "cell_type": "code",
   "execution_count": 19,
   "metadata": {},
   "outputs": [
    {
     "name": "stdout",
     "output_type": "stream",
     "text": [
      "88157871.01800007\n",
      "onset index = 464\n",
      "2008-10-26\n"
     ]
    }
   ],
   "source": [
    "onset_snd = 14.0\n",
    "offset_snd = 17.2\n",
    "\n",
    "t_onset_frac = onset_snd/movie_duration\n",
    "start_times_0 = tab.starttimes - tab.starttimes.iloc[0]\n",
    "onset_time0 = t_onset_frac*start_times_0.iloc[-1]\n",
    "print(onset_time0)\n",
    "#print(tab[start_times_0 >= onset_time0].iloc[0])\n",
    "ind_onset = tab.index[start_times_0 >= onset_time0][0]\n",
    "print('onset index = ' + str(ind_onset))\n",
    "onset_text = str(tab.years.iloc[ind_onset]) +'-'+ str(tab.months.iloc[ind_onset]) +'-'+ str(tab.days.iloc[ind_onset])\n",
    "print(onset_text)\n"
   ]
  },
  {
   "cell_type": "code",
   "execution_count": 22,
   "metadata": {},
   "outputs": [
    {
     "data": {
      "text/plain": [
       "[<matplotlib.lines.Line2D at 0x1c1d9244a8>]"
      ]
     },
     "execution_count": 22,
     "metadata": {},
     "output_type": "execute_result"
    },
    {
     "data": {
      "image/png": "[encoded data removed]",
      "text/plain": [
       "<matplotlib.figure.Figure at 0x1c1b8f4978>"
      ]
     },
     "metadata": {},
     "output_type": "display_data"
    }
   ],
   "source": [
    "fig = plt.figure(figsize = (7,4))\n",
    "\n",
    "\n",
    "t_soundtrack = np.arange(0,movie_duration,1/audio_sr)\n",
    "plt.plot(t_soundtrack,SoundTrack)\n",
    "plt.xlabel('Time (s)')\n",
    "plt.ylabel('\"displacement\"')\n",
    "plt.ylim([-1.0,1.0])\n",
    "plt.xlim([0,movie_duration])\n",
    "plt.text(onset_snd,0.75,onset_text)\n",
    "plt.plot([onset_snd,onset_snd],[-2.,2.], 'r')\n",
    "plt.plot([offset_snd,offset_snd],[-2.,2.], 'k')"
   ]
  },
  {
   "cell_type": "code",
   "execution_count": 23,
   "metadata": {},
   "outputs": [],
   "source": [
    "fig_path = './'\n",
    "figname_map = fig_path + 'Movie_sound_waveform_45s' +'.png'\n",
    "fig.savefig(figname_map, pad_inches=0.0, bbox_inches='tight', dpi=300)"
   ]
  },
  {
   "cell_type": "markdown",
   "metadata": {},
   "source": [
    "# And export the sound file"
   ]
  },
  {
   "cell_type": "code",
   "execution_count": 24,
   "metadata": {},
   "outputs": [],
   "source": [
    "#DirOut = DirCatalog\n",
    "DirOut = './'\n",
    "filenameforexport = 'TheSound_45s.wav'\n",
    "SoundTrack = SoundTrack/np.amax(SoundTrack)# normalize\n",
    "librosa.output.write_wav(DirOut + filenameforexport, SoundTrack, audio_sr, norm=True)"
   ]
  },
  {
   "cell_type": "code",
   "execution_count": null,
   "metadata": {},
   "outputs": [],
   "source": []
  }
 ],
 "metadata": {
  "kernelspec": {
   "display_name": "Python 3",
   "language": "python",
   "name": "python3"
  },
  "language_info": {
   "codemirror_mode": {
    "name": "ipython",
    "version": 3
   },
   "file_extension": ".py",
   "mimetype": "text/x-python",
   "name": "python",
   "nbconvert_exporter": "python",
   "pygments_lexer": "ipython3",
   "version": "3.7.1"
  }
 },
 "nbformat": 4,
 "nbformat_minor": 2
}
