{
 "cells": [
  {
   "cell_type": "code",
   "execution_count": 1,
   "metadata": {
    "collapsed": true
   },
   "outputs": [],
   "source": [
    "import numpy as np\n",
    "import scipy as sp\n",
    "\n",
    "import matplotlib.pyplot as plt\n",
    "import matplotlib\n",
    "from scipy import fftpack as spfft # for computing spectra\n",
    "import scipy.signal as spsig\n",
    "\n",
    "import librosa\n",
    "import resampy\n",
    "from subprocess import call\n",
    "\n",
    "import glob\n",
    "\n",
    "%matplotlib inline\n",
    "\n",
    "# Set plot fontsize\n",
    "matplotlib.rcParams.update({'font.size': 18})"
   ]
  },
  {
   "cell_type": "markdown",
   "metadata": {},
   "source": [
    "Direct sonification is simply the process of changing the time scale of a signal to transpose it to the audible range. The data should therefore have similarities with sound waves in air, that is:\n",
    "\n",
    " - oscillations around an average value (better if this value is 0), a.k.a \"stationary\" data. \n",
    " - not a vast range of amplitudes in the thing of interest\n",
    " - enough cycles to produce sound at the new frequency. \n",
    "\n",
    "We take the example of seismic data... but they could be many other things, e.g.:\n",
    "\n",
    "[planetary:] \n",
    "\n",
    " - ocean waves, tidal data\n",
    " - electro-magnetic waves (solar winds?)\n",
    " - gravitational waves\n",
    " - planetary orbital positions\n",
    " \n",
    "[biological:] \n",
    "\n",
    " - blood pressure\n",
    " - ekg brain waves\n",
    " \n",
    "[sociological:] \n",
    " - stock markets (detrended)?  "
   ]
  },
  {
   "cell_type": "code",
   "execution_count": null,
   "metadata": {},
   "outputs": [],
   "source": []
  },
  {
   "cell_type": "markdown",
   "metadata": {},
   "source": [
    "# EXAMPLE 1: a large earthquake \n",
    "\n",
    "\n",
    "## 1. Get the data (and in to python):"
   ]
  },
  {
   "cell_type": "code",
   "execution_count": 193,
   "metadata": {},
   "outputs": [
    {
     "name": "stdout",
     "output_type": "stream",
     "text": [
      "['/home/ben/data/Kilauea2018_continuous_2/waveforms_OBL', '/home/ben/data/Kilauea2018_continuous_2/waveforms_PUHI']\n",
      "['/home/ben/data/Kilauea2018_continuous_2/waveforms_PUHI/42905052.txt']\n"
     ]
    }
   ],
   "source": [
    "DirIn = '/home/ben/data/Kilauea2018_continuous_2/'\n",
    "DirOut = '/home/ben/Dropbox/x03_datamovies/Kilauea_2018/'\n",
    "\n",
    "dirlist = glob.glob(DirIn+'/*')\n",
    "print(dirlist)\n",
    "\n",
    "file = glob.glob(dirlist[1]+'/*.txt')\n",
    "print(file)"
   ]
  },
  {
   "cell_type": "code",
   "execution_count": 194,
   "metadata": {
    "collapsed": false
   },
   "outputs": [
    {
     "name": "stdout",
     "output_type": "stream",
     "text": [
      "<class 'str'>\n",
      "/home/ben/data/Kilauea2018_continuous_2/waveforms_PUHI/42905052.txt\n"
     ]
    }
   ],
   "source": [
    "FileNameIn = str(file)[2:-2] # Note that this data has been pre-processed (instrument response removal)\n",
    "fs = 100 # \n",
    "print(type(FileNameIn))\n",
    "print(FileNameIn)\n",
    "data = np.loadtxt(FileNameIn,skiprows=1,delimiter = ',',unpack = True)\n"
   ]
  },
  {
   "cell_type": "code",
   "execution_count": 195,
   "metadata": {},
   "outputs": [
    {
     "name": "stdout",
     "output_type": "stream",
     "text": [
      "We have 2 data points at a sampling frequency fs of 100\n",
      "We have 187643 seconds of data!\n",
      "... which is 52 hours of data!\n"
     ]
    }
   ],
   "source": [
    "x = data[1,:]\n",
    "time_vec = data[0,:]\n",
    "\n",
    "\n",
    "duration = len(x)/fs\n",
    "print('We have ' + str(len(data)) + ' data points at a sampling frequency fs of ' + str(fs))\n",
    "print('We have ' + str(int(duration)) + ' seconds of data!')\n",
    "print('... which is ' + str(int(duration/3600)) + ' hours of data!')\n",
    "\n",
    "# make time vectors for plotting purposes only\n",
    "t = np.arange(0,duration,1./fs) # in seconds\n",
    "t_hours = np.arange(0,duration/3600,1./fs/3600) # in hours"
   ]
  },
  {
   "cell_type": "code",
   "execution_count": 187,
   "metadata": {},
   "outputs": [
    {
     "name": "stdout",
     "output_type": "stream",
     "text": [
      "(18764300,)\n",
      "(18764300,)\n",
      "[0.00000000e+00 5.44709954e-08 2.17961359e-07 4.93188309e-07\n",
      " 8.82922960e-07 1.38552375e-06 1.99535536e-06 2.70793282e-06\n",
      " 3.52810199e-06 4.46797725e-06 5.52022509e-06 6.67981113e-06\n",
      " 7.95517711e-06 9.33959949e-06 1.08207352e-05 1.23782422e-05\n",
      " 1.40420669e-05 1.58797185e-05 1.78827867e-05 2.00089432e-05\n",
      " 2.21974807e-05 2.44418147e-05 2.68263833e-05 2.93887785e-05\n",
      " 3.20466981e-05 3.47728877e-05 3.76615121e-05 4.07205170e-05\n",
      " 4.39113749e-05 4.70944760e-05 5.02469963e-05 5.35233181e-05\n",
      " 5.69201797e-05 6.04905328e-05 6.43061344e-05 6.83916982e-05\n",
      " 7.25953798e-05 7.69070308e-05 8.13996220e-05 8.57913347e-05\n",
      " 9.00140661e-05 9.41799228e-05 9.86520710e-05 1.03934356e-04\n",
      " 1.09796097e-04 1.15405473e-04 1.20188251e-04 1.24659459e-04\n",
      " 1.29594285e-04 1.35023356e-04 1.40667816e-04 1.46336194e-04\n",
      " 1.52100792e-04 1.58030674e-04 1.63870508e-04 1.69495682e-04\n",
      " 1.75504199e-04 1.82092255e-04 1.88895800e-04 1.96011995e-04\n",
      " 2.03136577e-04 2.09932905e-04 2.16883115e-04 2.23891235e-04\n",
      " 2.30710831e-04 2.37479433e-04 2.44610674e-04 2.52532228e-04\n",
      " 2.60580374e-04 2.68460967e-04 2.76312531e-04 2.84108093e-04\n",
      " 2.92559801e-04 3.00727920e-04 3.07534516e-04 3.14656761e-04\n",
      " 3.23313981e-04 3.32825483e-04 3.42038008e-04 3.50374555e-04\n",
      " 3.58744759e-04 3.67714210e-04 3.77151135e-04 3.87274949e-04\n",
      " 3.97770636e-04 4.07500207e-04 4.15444806e-04 4.22807398e-04\n",
      " 4.31888286e-04 4.42159298e-04 4.51651714e-04 4.60351379e-04\n",
      " 4.69528060e-04 4.79960308e-04 4.91551094e-04 5.03127696e-04\n",
      " 5.13491373e-04 5.22424940e-04 5.30479204e-04 5.39492312e-04]\n"
     ]
    }
   ],
   "source": [
    "print(time_vec.shape)\n",
    "print(t_hours.shape)\n",
    "print(x[0:100])"
   ]
  },
  {
   "cell_type": "code",
   "execution_count": 196,
   "metadata": {},
   "outputs": [
    {
     "name": "stdout",
     "output_type": "stream",
     "text": [
      "(18764300,)\n",
      "(18764300,)\n",
      "[-0.00000000e+00 -4.60986949e-09 -1.85739367e-08 -4.24473060e-08\n",
      " -7.54169958e-08 -1.18119401e-07 -1.73321070e-07 -2.37007996e-07\n",
      " -3.07767625e-07 -3.92924113e-07 -4.85091548e-07 -5.76785717e-07\n",
      " -6.91670103e-07 -8.26910895e-07 -9.65613856e-07 -1.10974675e-06\n",
      " -1.25833981e-06 -1.42783869e-06 -1.61165888e-06 -1.80177806e-06\n",
      " -1.98073297e-06 -2.17757751e-06 -2.41568104e-06 -2.65065963e-06\n",
      " -2.87970451e-06 -3.07037006e-06 -3.27543553e-06 -3.55267224e-06\n",
      " -3.78334754e-06 -4.06077028e-06 -4.48945027e-06 -4.85569214e-06\n",
      " -5.21707121e-06 -5.51465548e-06 -5.72108704e-06 -6.07287258e-06\n",
      " -6.39215698e-06 -6.69081119e-06 -6.97641202e-06 -7.19493857e-06\n",
      " -7.67627916e-06 -8.21567494e-06 -8.53726921e-06 -8.97456113e-06\n",
      " -9.53250627e-06 -9.91396465e-06 -1.02764440e-05 -1.07342957e-05\n",
      " -1.12540595e-05 -1.19903419e-05 -1.26459159e-05 -1.31932664e-05\n",
      " -1.37308824e-05 -1.39491191e-05 -1.40881273e-05 -1.43010085e-05\n",
      " -1.47554510e-05 -1.54601752e-05 -1.58659545e-05 -1.64080172e-05\n",
      " -1.72212138e-05 -1.77374586e-05 -1.81621582e-05 -1.86081310e-05\n",
      " -1.91346676e-05 -1.95833409e-05 -2.00196000e-05 -2.06056869e-05\n",
      " -2.09531850e-05 -2.12937348e-05 -2.19978304e-05 -2.30406109e-05\n",
      " -2.36796847e-05 -2.44167126e-05 -2.54432905e-05 -2.59621562e-05\n",
      " -2.65295746e-05 -2.67171150e-05 -2.66822571e-05 -2.72133607e-05\n",
      " -2.84089820e-05 -2.94730780e-05 -2.96775634e-05 -3.02513408e-05\n",
      " -3.13406973e-05 -3.23951336e-05 -3.34728333e-05 -3.33222759e-05\n",
      " -3.22476148e-05 -3.22075729e-05 -3.35030323e-05 -3.52730253e-05\n",
      " -3.66931025e-05 -3.77375569e-05 -3.78599819e-05 -3.77843814e-05\n",
      " -3.77573729e-05 -3.72557538e-05 -3.74087015e-05 -3.72144916e-05]\n"
     ]
    }
   ],
   "source": [
    "print(time_vec.shape)\n",
    "print(t_hours.shape)\n",
    "print(x[0:100])"
   ]
  },
  {
   "cell_type": "code",
   "execution_count": 197,
   "metadata": {
    "collapsed": false
   },
   "outputs": [],
   "source": [
    "# Compute the spectrum\n",
    "\n",
    "###### some useful prerequisites...\n",
    "\n",
    "# 1) force the signal's mean value to be zero (how to kill your loudspeakers...)\n",
    "x = x - np.mean(x)\n",
    "\n",
    "# 2) limit the signal's amplitude = avoid too large peaks (how to re-kill your loudspeakers...)\n",
    "# a simple way is to normalize the data according to its maximum amplitude value\n",
    "# data = data/np.amax(data) # This is dangerous, peak values can be negative, too\n",
    "# better to do it THIS way:  \n",
    "x_n = x/np.amax(np.absolute(x))\n",
    "\n",
    "# # Nfft is the number of frequencies to calculate in a discrete signal (i.e. in a computer)\n",
    "# Nfft = len(data_n)\n",
    "# f = np.arange(0,fs/2,fs/Nfft) # to get the actual frequency values\n",
    "# S = spfft.fft(data,Nfft) \n",
    "# S = S[:int(Nfft/2)] # remove any information from frequencies higher than Nyquist freq (half the number of points)\n",
    "# #https://en.wikipedia.org/wiki/Nyquist_frequency\n",
    "\n",
    "# print('Frequency content ranges from ' + str(f[0]) + ' to ' + str(round(f[-1],3)) + ' Hz...')\n",
    "# print('log Frequency content ranges from ' + str(np.log10(f[1])) + ' to ' + str(np.log10(f[-1])) + ' [log10(Hz)]')"
   ]
  },
  {
   "cell_type": "code",
   "execution_count": 198,
   "metadata": {
    "collapsed": false
   },
   "outputs": [
    {
     "data": {
      "text/plain": [
       "(0, 52.12305555555555)"
      ]
     },
     "execution_count": 198,
     "metadata": {},
     "output_type": "execute_result"
    },
    {
     "data": {
      "image/png": "[encoded data removed]",
      "text/plain": [
       "<Figure size 720x288 with 1 Axes>"
      ]
     },
     "metadata": {
      "needs_background": "light"
     },
     "output_type": "display_data"
    }
   ],
   "source": [
    "# waveform\n",
    "plt.figure(figsize=(10,4))\n",
    "plt.subplot(1,2,1)\n",
    "plt.plot(t_hours,x_n,'k') \n",
    "plt.xlabel('Time (hours)')\n",
    "plt.ylabel('Amplitude of seismic wave')\n",
    "plt.grid()\n",
    "plt.xlim([0,duration/3600])\n",
    "\n",
    "# # spectrum: \n",
    "# plt.subplot(1,2,2)\n",
    "# #plt.plot(f,20*np.log10(np.absolute(S)),'k') \n",
    "# plt.plot(np.log10(f),20*np.log10(np.absolute(S)),'k') \n",
    "# plt.xlabel('Frequency (Hz)')\n",
    "# plt.ylabel('Amplitude of seismic wave (dB)')\n",
    "# plt.grid()\n",
    "# plt.axis()  "
   ]
  },
  {
   "cell_type": "code",
   "execution_count": 167,
   "metadata": {},
   "outputs": [],
   "source": [
    "# # SPECTROGRAM !\n",
    "# # first compute the short time fourier transform STFT\n",
    "# # \"Uncertainty Principle\": there is a direct tradeoff between resolution in frequency and in time: \n",
    "# # that is governed by the window length NfftSTFT\n",
    "\n",
    "# # for the full signal spectra, the Nfft (number of frequencies was simply the length of the signal. \n",
    "# # instead calculate Nfft upward from the sampling frequency and then window time? \n",
    "# # \n",
    "# # or \n",
    "# duration = len(data)/fs\n",
    "# numwindows = 1000\n",
    "# WindowDur = duration/numwindows\n",
    "\n",
    "\n",
    "# WindowLength = int(WindowDur*fs) # [s] The length of each frame (should be expressed in samples)\n",
    "# # does this need to be a power of 2 ?  apparently not ! \n",
    "# NfftSTFT = WindowLength*2 # you want the Nyquist frequency to be the window length ! (in number of samples, not seconds)\n",
    "\n",
    "# print('window duration in seconds: ' +str(WindowDur))\n",
    "# print('window length in samples: ' +str(WindowLength))\n",
    "# print(NfftSTFT)\n",
    "\n",
    "# Overlap = int(WindowLength/2) # The overlapping between successive frames (should be expressed in samples)\n",
    "# # This changes the total number of windows, but has to be smaller than the window length (in samples)\n",
    "\n",
    "# [fSTFT, tSTFT, STFT] = spsig.spectrogram(data_n, fs, nperseg=WindowLength, noverlap=Overlap, nfft=NfftSTFT) \n",
    "# # also provides associated f and t vectors!\n",
    "# print(STFT.shape)\n",
    "# #print(fSTFT.shape)\n",
    "# #print(tSTFT.shape)\n"
   ]
  },
  {
   "cell_type": "code",
   "execution_count": 168,
   "metadata": {},
   "outputs": [],
   "source": [
    "# Let's plot the spectrogram\n",
    "# notice that the y-axis goes up to half of fs ! i.e. Nyquist frequency\n",
    "# plt.figure(figsize=(8,4))\n",
    "# plt.pcolormesh(tSTFT,fSTFT,20*np.log10(np.absolute(STFT))) # dB = 20*log() is a convention\n",
    "# #plt.ylim([0,fs/8])\n",
    "# plt.xlim([0,duration-WindowLength/fs])\n",
    "# plt.xlabel('Time (s)')\n",
    "# plt.ylabel('Frequency (Hz)')\n",
    "# cbar = plt.colorbar()\n",
    "# cbar.ax.set_ylabel('dB', rotation=270)"
   ]
  },
  {
   "cell_type": "code",
   "execution_count": 169,
   "metadata": {},
   "outputs": [],
   "source": [
    "# Now make a spectrogram with Librosa ! \n",
    "\n"
   ]
  },
  {
   "cell_type": "markdown",
   "metadata": {},
   "source": [
    "## NOW MAKE SOUND !"
   ]
  },
  {
   "cell_type": "code",
   "execution_count": 199,
   "metadata": {
    "collapsed": false
   },
   "outputs": [
    {
     "name": "stdout",
     "output_type": "stream",
     "text": [
      "The data is 187643-s long\n",
      "Let's make a 180.0-second long sound!\n",
      "This corresponds to a speed factor of: 1042\n"
     ]
    }
   ],
   "source": [
    "OutFileName = FileNameIn[:-4] + '_sonified.wav'\n",
    "\n",
    "# For the free oscillations, we had a specific frequency that we wanted to shift to another one\n",
    "# Here we can define a target duration instead\n",
    "\n",
    "OriginalDuration = duration\n",
    "TargetDuration = 180.0 # Try playing with this number! What happens to the sound if you make it smaller? Larger?\n",
    "print('The data is ' + str(int(OriginalDuration)) + '-s long')\n",
    "print('Let\\'s make a ' + str(TargetDuration) + '-second long sound!')\n",
    "\n",
    "SpeedFactor = OriginalDuration/TargetDuration\n",
    "print('This corresponds to a speed factor of: ' + str(int(SpeedFactor)))\n",
    "\n",
    "# (here we are speeding up the playback because the original content is infrasonic / \n",
    "# There are cases where we want to do the opposite, e.g. solar magnetic waves, acoustic emissions during rock microcracking...)\n",
    "# compute the corresponding shift in frequency\n",
    "# show the result with subplots original data VS. sonified data \n",
    "#      (time series / spectrum / spectrogram = no change except in the time scale)"
   ]
  },
  {
   "cell_type": "code",
   "execution_count": 200,
   "metadata": {
    "collapsed": true
   },
   "outputs": [],
   "source": [
    "# So, set the new sampling rate, and then resample to a standard sampling rate\n",
    "fs_sound = int(fs*SpeedFactor)\n",
    "#sr_resample = 44100\n",
    "\n",
    "librosa.output.write_wav(OutFileName, x_n, fs_sound, norm=False)\n",
    "\n",
    "# Some software have troubles with exotic sampling rates (VLC and audacity don't have), so it might be necessary \n",
    "# to resample your sound.\n",
    "#dataOrig, srOrig = librosa.core.load(DirOut + OutFileName, sr=sr_sound)\n",
    "#data_rs = resampy.resample(dataOrig, srOrig, sr_resample)\n",
    "#librosa.output.write_wav(DirOut + OutFileName, data_rs, sr_resample, norm=False)"
   ]
  },
  {
   "cell_type": "code",
   "execution_count": null,
   "metadata": {
    "collapsed": false
   },
   "outputs": [],
   "source": [
    "# # Original vs. Sonified Data\n",
    "# plt.figure(figsize=(12*2,6*2))\n",
    "# plt.subplot(1,2,1)\n",
    "# plt.plot(t_hours,data_n,'k') \n",
    "# plt.xlabel('Time (hours)')\n",
    "# plt.ylabel('Amplitude of seismic wave\\n (normalized to max.)')\n",
    "# plt.grid()\n",
    "# plt.xlim([0,OriginalDuration/3600])\n",
    "# plt.title('Old Seismogram (inaudible)')\n",
    "\n",
    "# plt.subplot(1,2,2)\n",
    "# plt.plot(t_hours*3600/SpeedFactor,data_n,'k') \n",
    "# plt.xlabel('Time (seconds)')\n",
    "# plt.grid()\n",
    "# plt.xlim([0,TargetDuration])\n",
    "# plt.title('New Seismogram (audible)')\n",
    "\n",
    "# # The difference is only in the time scale. We compress 14 hours into 12 seconds"
   ]
  },
  {
   "cell_type": "markdown",
   "metadata": {},
   "source": [
    "# =========================================================\n",
    "# Example 2: Much longer seismic signal: free oscillations \n",
    "### filtering to find a hidden signal ! "
   ]
  },
  {
   "cell_type": "markdown",
   "metadata": {},
   "source": [
    "#### Their period typically ranges from 20 minutes to a few hours, i.e. a frequency between, say, approximately 0.0002 and 0.002 Hz\n",
    "\n",
    "### https://vimeo.com/215665951\n",
    "### http://lucien.saviot.free.fr/terre/index.en.html "
   ]
  },
  {
   "cell_type": "code",
   "execution_count": null,
   "metadata": {},
   "outputs": [],
   "source": [
    "# get the data in: \n",
    "DirIn = '../0_data_nogit/'\n",
    "\n",
    "# This is the Sumatra earthquake (2004), recorded by a seimic station located in Albuquerque, NM\n",
    "FileNameIn = 'Sumatra_2004_ANMO_14wks.VHZ' \n",
    "# Note that this data has been pre-processed (instrument response removal)\n",
    "fs = 0.1 \n",
    "# Datatype VHZ is downsampled to 0.1 Hz (p=10 s)\n",
    "\n",
    "data = np.loadtxt(DirIn + FileNameIn)\n",
    "duration = len(data)/fs"
   ]
  },
  {
   "cell_type": "code",
   "execution_count": null,
   "metadata": {},
   "outputs": [],
   "source": [
    "# make time vectors for plotting purposes only\n",
    "t = np.arange(0,duration,1./fs) # in seconds\n",
    "t_hours = np.arange(0,duration/3600,1./fs/3600) # in hours\n",
    "t_days = np.arange(0,duration/3600/24,1./fs/3600/24) # in days\n",
    "\n",
    "print('We have ' + str(int(duration)) + ' seconds of data!')\n",
    "print('... which is ' + str(int(duration/3600)) + ' hours of data!')\n",
    "print('... which is ' + str(int(duration/3600/24)) + ' days of data!')"
   ]
  },
  {
   "cell_type": "code",
   "execution_count": null,
   "metadata": {},
   "outputs": [],
   "source": [
    "# Compute the spectrum\n",
    "Nfft = len(data)\n",
    "f = np.arange(0,fs/2,fs/Nfft)\n",
    "S = spfft.fft(data,Nfft); S = S[:int(Nfft/2)]\n",
    "print('Frequency content ranges from ' + str(f[0]) + ' to ' + str(round(f[-1],3)) + ' Hz...')\n",
    "print('Frequency content ranges from ' + str(np.log10(f[1])) + ' to ' + str(np.log10(f[-1])) + ' [log10(Hz)]')"
   ]
  },
  {
   "cell_type": "code",
   "execution_count": null,
   "metadata": {},
   "outputs": [],
   "source": [
    "# 1) force the signal's mean value to be zero (how to kill your loudspeakers...)\n",
    "data = data - np.mean(data)\n",
    "\n",
    "# 2) limit the signal's amplitude = avoid too large peaks (how to re-kill your loudspeakers...)\n",
    "# but keep the value because we want to compare the power to other data... \n",
    "maxabs = np.amax(np.absolute(data))\n",
    "data_n = data/maxabs"
   ]
  },
  {
   "cell_type": "code",
   "execution_count": null,
   "metadata": {},
   "outputs": [],
   "source": [
    "# plot\n",
    "S = spfft.fft(data_n,Nfft)\n",
    "S = S[:int(Nfft/2)]\n",
    "\n",
    "plt.figure(figsize=(12,6))\n",
    "plt.subplot(1,2,1)\n",
    "plt.plot(t_hours,data_n,'k') \n",
    "plt.xlabel('Time (hours)')\n",
    "plt.ylabel('Amplitude of seismic wave\\n (normalized to max.)')\n",
    "plt.grid()\n",
    "plt.xlim([0,duration/3600])\n",
    "plt.subplot(1,2,2)\n",
    "plt.plot(np.log10(f),20*np.log10(np.absolute(S)),'k') \n",
    "plt.xlabel('Log Frequency (Hz)')\n",
    "plt.ylabel('Amplitude of seismic wave (dB)')\n",
    "plt.grid()"
   ]
  },
  {
   "cell_type": "code",
   "execution_count": null,
   "metadata": {},
   "outputs": [],
   "source": [
    "plt.figure(figsize=(12,6))\n",
    "#plt.plot(np.log10(f),np.log10(np.absolute(S)),'k') \n",
    "plt.plot(f,np.absolute(S),'k') \n",
    "plt.xlabel('Frequency (Hz)')\n",
    "plt.ylabel('Amplitude of seismic wave')\n",
    "plt.grid()\n",
    "plt.xlim([0.0002, 0.002])"
   ]
  },
  {
   "cell_type": "code",
   "execution_count": null,
   "metadata": {},
   "outputs": [],
   "source": [
    "# SPECTROGRAM !\n",
    "# first compute the short time fourier transform STFT\n",
    "# \"Uncertainty Principle\": there is a direct tradeoff between resolution in frequency and in time: \n",
    "# that is governed by the window length NfftSTFT\n",
    "\n",
    "# for the full signal spectra, the Nfft (number of frequencies was simply the length of the signal. \n",
    "# instead calculate Nfft upward from the sampling frequency and then window time? \n",
    "# \n",
    "WindowDur = 300 # in seconds (can calculate this from the lower end of the frequency spectrum that you want to resolve too)\n",
    "# or \n",
    "duration = len(data)/fs\n",
    "numwindows = 100\n",
    "WindowDur = duration/numwindows\n",
    "\n",
    "\n",
    "WindowLength = int(WindowDur*fs) # [s] The length of each frame (should be expressed in samples)\n",
    "# does this need to be a power of 2 ?  apparently not ! \n",
    "NfftSTFT = WindowLength*2 # you want the Nyquist frequency to be the window length ! (in number of samples, not seconds)\n",
    "\n",
    "print('window duration in seconds: ' +str(WindowDur))\n",
    "print('window length in samples: ' +str(WindowLength))\n",
    "print(NfftSTFT)\n",
    "\n",
    "Overlap = int(WindowLength/2) # The overlapping between successive frames (should be expressed in samples)\n",
    "# This changes the total number of windows, but has to be smaller than the window length (in samples)\n",
    "\n",
    "[fSTFT, tSTFT, STFT] = spsig.spectrogram(data_n, fs, nperseg=WindowLength, noverlap=Overlap, nfft=NfftSTFT) \n",
    "# also provides associated f and t vectors!\n",
    "print(STFT.shape)\n",
    "\n",
    "# Let's plot the spectrogram\n",
    "plt.figure(figsize=(10,6))\n",
    "plt.pcolormesh(tSTFT,fSTFT,20*np.log10(np.absolute(STFT)))\n",
    "plt.ylim([0,fs/8])\n",
    "#plt.xlim([0,dur1-SliceLength/sr])\n",
    "plt.xlabel('Time (s)')\n",
    "plt.ylabel('Frequency (Hz)')\n",
    "cbar = plt.colorbar()\n",
    "cbar.ax.set_ylabel('dB', rotation=270)"
   ]
  },
  {
   "cell_type": "code",
   "execution_count": null,
   "metadata": {},
   "outputs": [],
   "source": [
    "outfile_name = '14weeks_Sumatra_nofilt.wav'\n",
    "\n",
    "OriginalDuration = duration\n",
    "TargetDuration = 24.0 # Try playing with this number! What happens to the sound if you make it smaller? Larger?\n",
    "print('The data is ' + str(int(OriginalDuration)) + '-s long')\n",
    "print('Let\\'s make a ' + str(TargetDuration) + '-second long sound!')\n",
    "\n",
    "SpeedFactor = OriginalDuration/TargetDuration\n",
    "print('This corresponds to a speed factor of: ' + str(int(SpeedFactor)))\n",
    "\n",
    "# So, set the new sampling rate, and then resample to a standard sampling rate\n",
    "sr_sound = int(fs*SpeedFactor)\n",
    "# resample at 44.100 kHz\n",
    "sr_resample = 44100\n",
    "data_rs = resampy.resample(data_n, sr_sound, sr_resample)\n",
    "librosa.output.write_wav(DirOut + outfile_name, data_rs, sr_resample, norm=False)\n",
    "\n",
    "# Some software have troubles with exotic sampling rates (VLC and audacity don't have), so it might be necessary \n",
    "# to resample your sound. if so, uncomment: \n",
    "\n",
    "# sr_resample = 44100\n",
    "# dataOrig, srOrig = librosa.core.load(DirOut + OutFileName, sr=sr_sound)\n",
    "# data_rs = resampy.resample(dataOrig, srOrig, sr_resample)\n",
    "# librosa.output.write_wav(DirOut + OutFileName, data_rs, sr_resample, norm=False)"
   ]
  },
  {
   "cell_type": "code",
   "execution_count": null,
   "metadata": {},
   "outputs": [],
   "source": []
  },
  {
   "cell_type": "code",
   "execution_count": null,
   "metadata": {},
   "outputs": [],
   "source": [
    "# FILTER AROUND THE MODES ! \n",
    "\n",
    "#fcenter = 0.000833333\n",
    "fcenter = 0.00104\n",
    "#fcenter = 1/(36*60)\n",
    "\n",
    "Sabs = np.absolute(S)\n",
    "\n",
    "plt.figure(figsize=(12,6))\n",
    "plt.plot(f,Sabs,'k') \n",
    "plt.plot([fcenter,fcenter],[0,max(Sabs)],'r-')\n",
    "plt.xlabel('Frequency (Hz)')\n",
    "plt.ylabel('Amplitude of seismic wave')\n",
    "plt.grid()\n",
    "plt.xlim([0.0002, 0.002])"
   ]
  },
  {
   "cell_type": "code",
   "execution_count": null,
   "metadata": {},
   "outputs": [],
   "source": [
    "Q = 5 # Quality factor: how wide the filter is around fcenter(higher value damps LESS quickly)\n",
    "FiltOrder = 2; # Filter Order: (how steep the sides are)\n",
    "\n",
    "\n",
    "BW_SemiWidth = fcenter/(2*Q)\n",
    "fmin = fcenter-BW_SemiWidth; \n",
    "fmax = fcenter+BW_SemiWidth; \n",
    "cutofffreq = np.array([fmin, fmax]) / (fs/2);     \n",
    "\n",
    "b, a = spsig.butter(FiltOrder, cutofffreq, btype='band', analog=False, output='ba')\n",
    "w, h = spsig.freqz(b, a); \n",
    "w = w*fs/np.pi/2\n",
    "\n",
    "data_filt = spsig.lfilter(b, a, data)\n",
    "S_filt = spfft.fft(data_filt,Nfft) # compute the spectrum\n",
    "S_filt = S_filt[:int(Nfft/2)] # up to the Nyquist frequency\n",
    "\n",
    "print(\"Center frequency is: \" + \"%.02E\" %(fcenter) + \" Hz\")\n",
    "print(\"Cut-off frequencies are: \" + \"%.02E\" %(fmin) + \" Hz & \" + \"%.02E\" %(fmax) + \" Hz\")"
   ]
  },
  {
   "cell_type": "code",
   "execution_count": null,
   "metadata": {},
   "outputs": [],
   "source": [
    "##### Plot and compare original and filtered signals\n",
    "fig = plt.figure(figsize=(20,16))\n",
    "plt.subplot(2,2,1)\n",
    "plt.plot(t_days,data,'k') \n",
    "plt.title(\"Original signal\"); plt.xlabel(\"Time (days)\")\n",
    "plt.ylim([-0.0015, 0.0015])\n",
    "plt.grid()\n",
    "plt.xlim([0, duration/3600/24])\n",
    "\n",
    "plt.subplot(2,2,2)\n",
    "plt.plot(t_days,data_filt,'k')\n",
    "plt.title(\"Filtered signal\"); plt.xlabel(\"Time (days)\")\n",
    "plt.grid()\n",
    "plt.xlim([0, duration/3600/24])\n",
    "\n",
    "plt.subplot(2,3,4)\n",
    "plt.plot(f,20*np.log10(np.abs(S)),'k',label='Spectrum')\n",
    "plt.plot(w, 20*np.log10(abs(h))+  + 20*np.log10(np.amax(np.abs(S))),'--g',label='Filt. resp.',linewidth=2)\n",
    "plt.title(\"Original spectrum\"); plt.xlabel(\"Freq (Hz)\")\n",
    "plt.ylim([-150., 10.])\n",
    "plt.grid()\n",
    "plt.legend(bbox_to_anchor=(0.2, 0.9), loc=3,ncol=2)\n",
    "\n",
    "plt.subplot(2,3,5)\n",
    "plt.plot(f,20*np.log10(np.abs(S_filt)),'k',label='Spectrum')\n",
    "plt.plot(w, 20 * np.log10(abs(h)) + 20*np.log10(np.amax(np.abs(S_filt))),'--g',label='Filt. resp.',linewidth=2)\n",
    "plt.title(\"Filtered spectrum\"); plt.xlabel(\"Freq (Hz)\")\n",
    "plt.ylim([-150., 10.])\n",
    "plt.grid()\n",
    "plt.legend(bbox_to_anchor=(0.2, 0.9), loc=3,ncol=2)\n",
    "\n",
    "plt.subplot(2,3,6)\n",
    "plt.plot(f,20*np.log10(np.abs(S_filt)),'k',label='Spectrum')\n",
    "plt.plot(w, 20*np.log10(abs(h)) + 20*np.log10(np.amax(np.abs(S_filt))),'--g',label='Filt. resp.',linewidth=2)\n",
    "plt.xlim([fcenter-8*BW_SemiWidth, fcenter+8*BW_SemiWidth])\n",
    "plt.title(\"Filtered spectrum (magnified view)\"); plt.xlabel(\"Freq (Hz)\")\n",
    "plt.ylim([-110., 10.])\n",
    "plt.grid()\n",
    "plt.legend(bbox_to_anchor=(0.2, 0.05), loc=3,ncol=2)\n",
    "\n",
    "# want to save this awesome figure?\n",
    "#fig.savefig(DirOut + 'SumatraFiltered.png')"
   ]
  },
  {
   "cell_type": "code",
   "execution_count": null,
   "metadata": {},
   "outputs": [],
   "source": [
    "# SPECTROGRAM !\n",
    "\n",
    "duration = len(data_filt)/fs\n",
    "numwindows = 100\n",
    "WindowDur = duration/numwindows\n",
    "\n",
    "\n",
    "WindowLength = int(WindowDur*fs) # [s] The length of each frame (should be expressed in samples)\n",
    "# does this need to be a power of 2 ?  apparently not ! \n",
    "NfftSTFT = WindowLength*2 # you want the Nyquist frequency to be the window length ! (in number of samples, not seconds)\n",
    "\n",
    "print('window duration in seconds: ' +str(WindowDur))\n",
    "print('window length in samples: ' +str(WindowLength))\n",
    "print(NfftSTFT)\n",
    "\n",
    "# probably no need to change this. \n",
    "Overlap = int(WindowLength/2) # The overlapping between successive frames (should be expressed in samples)\n",
    "\n",
    "[fSTFT, tSTFT, STFT] = spsig.spectrogram(data_filt, fs, nperseg=WindowLength, noverlap=Overlap, nfft=NfftSTFT) \n",
    "# also provides associated f and t vectors!\n",
    "print(STFT.shape)\n",
    "\n",
    "# Let's plot the spectrogram\n",
    "plt.figure(figsize=(10,6))\n",
    "plt.pcolormesh(tSTFT,fSTFT,20*np.log10(np.absolute(STFT)))\n",
    "plt.ylim([0,fs/8])\n",
    "#plt.xlim([0,dur1-SliceLength/sr])\n",
    "plt.xlabel('Time (s)')\n",
    "plt.ylabel('Frequency (Hz)')\n",
    "cbar = plt.colorbar()\n",
    "cbar.ax.set_ylabel('dB', rotation=270)"
   ]
  },
  {
   "cell_type": "code",
   "execution_count": null,
   "metadata": {},
   "outputs": [],
   "source": [
    "# MAKE THE FILTERED SOUND ! \n",
    "\n",
    "outfile_name = '14weeks_Sumatra_filt00104.wav'\n",
    "\n",
    "OriginalDuration = duration\n",
    "TargetDuration = 14.0 # Try playing with this number! What happens to the sound if you make it smaller? Larger?\n",
    "print('The data is ' + str(int(OriginalDuration)) + '-s long')\n",
    "print('Let\\'s make a ' + str(TargetDuration) + '-second long sound!')\n",
    "\n",
    "SpeedFactor = OriginalDuration/TargetDuration\n",
    "print('This corresponds to a speed factor of: ' + str(int(SpeedFactor)))\n",
    "\n",
    "# So, set the new sampling rate, and then resample to a standard sampling rate\n",
    "sr_sound = int(fs*SpeedFactor)\n",
    "# resample at 44.100 kHz\n",
    "sr_resample = 44100\n",
    "data_rs = resampy.resample(data_n, sr_sound, sr_resample)\n",
    "librosa.output.write_wav(DirOut + outfile_name, data_rs, sr_resample, norm=False)"
   ]
  },
  {
   "cell_type": "markdown",
   "metadata": {},
   "source": [
    "## EXERCISE: Go back and filter it on different modes (change the file name to tell you the mode), \n",
    "### play with the speed factor and build a composite sound of several modes, using Audacity.  "
   ]
  },
  {
   "cell_type": "markdown",
   "metadata": {},
   "source": [
    "# =========================================================\n",
    "# Example 3: LIGO data   \n",
    "## Laser Interferometer Gravitational-Wave Observatory  (DOI: 10.1103/PhysRevLett.116.061102)\n",
    "## https://www.ligo.org/\n",
    "### Much, much much lower amplitude than seismic waves: compare the spectra !\n",
    "### (too short for direct sonification !)  "
   ]
  },
  {
   "cell_type": "code",
   "execution_count": null,
   "metadata": {
    "collapsed": true
   },
   "outputs": [],
   "source": [
    "# get the data in: \n",
    "DirIn = '../0_data_examples/LIGO/'\n",
    "\n",
    "# This is the Sumatra earthquake (2004), recorded by a seimic station located in Albuquerque, NM\n",
    "FileNameIn = 'obs_HanfordWA.txt' \n",
    "# https://www.gw-openscience.org/GWTC-1-confident/\n",
    "\n",
    "data = np.loadtxt(DirIn + FileNameIn)\n",
    "print(data.shape)\n",
    "print(data[0,0])\n",
    "# note that np.loadtext automatically skipped the column headers ! \n",
    "\n",
    "time = np.squeeze(data[0:-1,0])\n",
    "strain = np.squeeze(data[0:-1,1])\n",
    "print(time.shape)\n",
    "\n",
    "print(time[-1])\n",
    "#plt.plot(time-time[0])\n",
    "\n",
    "duration0 = (time[-1]-time[0])\n",
    "dt = duration0/len(time) # since we don't a priori know if time is regularly spaced (probably is)\n",
    "print(duration0)\n",
    "\n",
    "fs = 1/dt \n",
    "print(fs)\n",
    "\n",
    "#duration = len(data)/fs\n",
    "#print(duration)"
   ]
  },
  {
   "cell_type": "code",
   "execution_count": null,
   "metadata": {},
   "outputs": [],
   "source": [
    "# play it directly ! \n",
    "data = strain \n",
    "\n",
    "# Compute the spectrum\n",
    "Nfft = len(data)\n",
    "#f = np.arange(0,sr/2,sr/Nfft)\n",
    "f = np.linspace(0,fs/Nfft,round(Nfft/2))\n",
    "S = spfft.fft(data,Nfft) \n",
    "S = S[:int(Nfft/2)]\n",
    "print(len(f))\n",
    "print(len(S))\n",
    "print('Frequency content ranges from ' + str(f[0]) + ' to ' + str(round(f[-1],3)) + ' Hz...')\n",
    "print('Frequency content ranges from [log10] ' + str(np.log10(f[1])) + ' to ' + str(np.log10(f[-1])) + ' Hz...')"
   ]
  },
  {
   "cell_type": "code",
   "execution_count": null,
   "metadata": {},
   "outputs": [],
   "source": [
    "plt.figure(figsize=(14,6))\n",
    "plt.subplot(1,2,1)\n",
    "plt.plot(time,data,'k') \n",
    "plt.xlabel('Time (sec)')\n",
    "plt.ylabel('Amplitude of strain')\n",
    "plt.grid()\n",
    "\n",
    "\n",
    "plt.subplot(1,2,2)\n",
    "plt.plot(np.log10(f),20*np.log10(np.absolute(S)),'k') \n",
    "plt.xlabel('Frequency (Hz)')\n",
    "plt.ylabel('Amplitude of strain (dB)')\n",
    "plt.xlim([-2,0])\n",
    "plt.grid()"
   ]
  },
  {
   "cell_type": "code",
   "execution_count": null,
   "metadata": {},
   "outputs": [],
   "source": [
    "# SPECTROGRAM !\n",
    "print(fs)\n",
    "duration = len(data)/fs\n",
    "numwindows = 20\n",
    "WindowDur = duration/numwindows\n",
    "\n",
    "\n",
    "WindowLength = int(WindowDur*fs) # [s] The length of each frame (should be expressed in samples)\n",
    "# does this need to be a power of 2 ?  apparently not ! \n",
    "NfftSTFT = WindowLength*2 # you want the Nyquist frequency to be the window length ! (in number of samples, not seconds)\n",
    "\n",
    "print('window duration in seconds: ' +str(WindowDur))\n",
    "print('window length in samples: ' +str(WindowLength))\n",
    "print(NfftSTFT)\n",
    "\n",
    "# probably no need to change this. \n",
    "Overlap = int(WindowLength/2) # The overlapping between successive frames (should be expressed in samples)\n",
    "\n",
    "[fSTFT, tSTFT, STFT] = spsig.spectrogram(data, fs, nperseg=WindowLength, noverlap=Overlap, nfft=NfftSTFT) \n",
    "# also provides associated f and t vectors!\n",
    "print(STFT.shape)\n",
    "\n",
    "# Let's plot the spectrogram\n",
    "plt.figure(figsize=(10,6))\n",
    "plt.pcolormesh(tSTFT,fSTFT,20*np.log10(np.absolute(STFT)))\n",
    "plt.ylim([0,fs/8])\n",
    "#plt.xlim([0,dur1-SliceLength/sr])\n",
    "plt.xlabel('Time (s)')\n",
    "plt.ylabel('Frequency (Hz)')\n",
    "cbar = plt.colorbar()\n",
    "cbar.ax.set_ylabel('dB', rotation=270)"
   ]
  },
  {
   "cell_type": "code",
   "execution_count": null,
   "metadata": {},
   "outputs": [],
   "source": [
    "# MAKE THE FILTERED SOUND ! \n",
    "\n",
    "outfile_name = 'LIGO_WA_nofilt.wav'\n",
    "\n",
    "OriginalDuration = duration\n",
    "TargetDuration = duration/2 # Try playing with this number! What happens to the sound if you make it smaller? Larger?\n",
    "print('The data is ' + str(OriginalDuration) + '-s long')\n",
    "print('Let\\'s make a ' + str(TargetDuration) + '-second long sound!')\n",
    "\n",
    "SpeedFactor = OriginalDuration/TargetDuration\n",
    "print('This corresponds to a speed factor of: ' + str(SpeedFactor))\n",
    "\n",
    "# So, set the new sampling rate, and then resample to a standard sampling rate\n",
    "sr_sound = int(fs*SpeedFactor)\n",
    "# resample at 44.100 kHz\n",
    "sr_resample = 44100\n",
    "data_rs = resampy.resample(data, sr_sound, sr_resample)\n",
    "librosa.output.write_wav(DirOut + outfile_name, data_rs, sr_resample, norm=False)"
   ]
  },
  {
   "cell_type": "markdown",
   "metadata": {},
   "source": [
    "## There is not enough data for direct sonification ! \n",
    "## We must use other means ! "
   ]
  },
  {
   "cell_type": "code",
   "execution_count": null,
   "metadata": {},
   "outputs": [],
   "source": []
  }
 ],
 "metadata": {
  "kernelspec": {
   "display_name": "Python 3",
   "language": "python",
   "name": "python3"
  },
  "language_info": {
   "codemirror_mode": {
    "name": "ipython",
    "version": 3
   },
   "file_extension": ".py",
   "mimetype": "text/x-python",
   "name": "python",
   "nbconvert_exporter": "python",
   "pygments_lexer": "ipython3",
   "version": "3.7.3"
  }
 },
 "nbformat": 4,
 "nbformat_minor": 2
}
