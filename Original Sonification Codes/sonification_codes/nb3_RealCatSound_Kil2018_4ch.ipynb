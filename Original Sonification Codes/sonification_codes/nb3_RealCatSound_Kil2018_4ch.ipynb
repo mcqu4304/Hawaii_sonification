{
 "cells": [
  {
   "cell_type": "code",
   "execution_count": 1,
   "metadata": {},
   "outputs": [],
   "source": [
    "import matplotlib.pyplot as plt\n",
    "%matplotlib inline\n",
    "import numpy as np\n",
    "import pandas as pd\n",
    "import obspy\n",
    "import librosa\n",
    "import resampy\n",
    "\n",
    "import os.path\n",
    "import sys\n",
    "sys.path.append('./sonification_codes/classes/')\n",
    "import CMMR_class as dbap\n"
   ]
  },
  {
   "cell_type": "code",
   "execution_count": null,
   "metadata": {},
   "outputs": [],
   "source": []
  },
  {
   "cell_type": "code",
   "execution_count": 77,
   "metadata": {},
   "outputs": [
    {
     "name": "stdout",
     "output_type": "stream",
     "text": [
      "Index(['time', 'lat', 'lon', 'depth', 'mag', 'dist from Halemaumau (degrees)',\n",
      "       'id', 'type', 'horizontalError', 'depthError', 'magError'],\n",
      "      dtype='object')\n",
      "The catalog is a dataframe of size (41319, 11)\n",
      "There are 41319 events\n",
      "2018-04-01T08:09:00.750Z\n"
     ]
    }
   ],
   "source": [
    "# THIS VERSION DOES ONE STATION, MULTIPLE SPEAKERS, USING DBAP ! (another notebook for data from multiple stations)\n",
    "# post October 2019 on the CMC 313 computer: \n",
    "\n",
    "\n",
    "\n",
    "# DirCatalog = '/home/ben/githole/earthquack/projects/catalog_movies/quakes/kilauea_2018_zoom/'\n",
    "# DirCatalog = '/home/ben/data/Kilauea/'\n",
    "# FileCatalog = 'EQ_Eruption_Catalog_4_1_2018_8_30_2018_HVO_validdata.csv'\n",
    "\n",
    "FOV='big'\n",
    "\n",
    "if FOV=='big':\n",
    "    station_name = 'STCD'\n",
    "    catname_pkl = './catalogs/cat_STDC_bigview.pkl'  \n",
    "    DataDir = '/home/ben/data/Kilauea/waveforms_' + station_name + '/'\n",
    "    minMag = 2.5\n",
    "    maxMag = 6.5 \n",
    "    new_event_dur = 0.15#0.3#0.3\n",
    "    movie_duration = 180#120.0 # in seconds\n",
    "    soundrootname = 'kil2018_'+FOV+'_dur'+str(movie_duration)+'edur'+str(new_event_dur)+'m'+str(minMag)+'_M'+str(maxMag)\n",
    "    soundrootname.replace('.','p')\n",
    "if FOV=='zoom':\n",
    "    station_name = 'PUHI'\n",
    "    catname_pkl = './catalogs/cat_PUHI_zoomview.pkl'  \n",
    "    DataDir = '/home/ben/data/Kilauea/waveforms_' + station_name + '/'\n",
    "    minMag = 5 # 2.3\n",
    "    new_event_dur = 0.5 #0.3\n",
    "    movie_duration = 60.0 # 120 in seconds\n",
    "    soundrootname = 'kil2018_'+FOV+'_dur'+str(movie_duration)+'edur'+str(new_event_dur)+'m'+str(minMag)+'_M'+str(maxMag)\n",
    "    soundrootname.replace('.','p')\n",
    "if FOV=='zoomOneCycle':\n",
    "    station_name = 'PUHI'\n",
    "    catname_pkl = './catalogs/cat_PUHI_zoomOnecycle_v2.pkl'  \n",
    "    DataDir = '/home/ben/data/Kilauea/waveforms_' + station_name + '/'\n",
    "    minMag = 4.5#1.5\n",
    "    new_event_dur = 0.8# 0.15\n",
    "    movie_duration = 180.0 # in seconds\n",
    "    soundrootname = 'kil2018_'+FOV+'_dur'+str(movie_duration)+'edur'+str(new_event_dur)+'m'+str(minMag)+'_M'+str(maxMag)\n",
    "    soundrootname.replace('.','p')\n",
    "    \n",
    "tab = pd.read_pickle(catname_pkl)\n",
    "print(tab.columns)\n",
    "print('The catalog is a dataframe of size ' + str(tab.shape))\n",
    "#print('I will assume (correct me if I\\'m wrong) that the fields are:\\n\\t year\\n\\t month\\n\\t day\\n\\t hour\\n\\t minute\\n\\t seconds\\n\\t latitude\\n\\t longitude\\n\\t depth\\n\\t magnitude\\n\\t id')\n",
    "print('There are ' + str(len(tab['time'])) + ' events')\n",
    "print(tab.time.iloc[2])"
   ]
  },
  {
   "cell_type": "code",
   "execution_count": 78,
   "metadata": {},
   "outputs": [
    {
     "name": "stdout",
     "output_type": "stream",
     "text": [
      "2018-04-01T06:59:02.810Z 2018-08-30T15:26:45.430Z\n"
     ]
    },
    {
     "data": {
      "text/plain": [
       "Text(0, 0.5, 'start time (data time, s)')"
      ]
     },
     "execution_count": 78,
     "metadata": {},
     "output_type": "execute_result"
    },
    {
     "data": {
      "image/png": "[encoded data removed]",
      "text/plain": [
       "<Figure size 432x288 with 1 Axes>"
      ]
     },
     "metadata": {
      "needs_background": "light"
     },
     "output_type": "display_data"
    }
   ],
   "source": [
    "### THIS SHOULD HAVE ALREADY BEEN DONE\n",
    "\n",
    "# Get the start time of each event as a timestamp\n",
    "starttimes = np.zeros(len(tab['time']))\n",
    "for k in range(0,len(tab['time'])-1):\n",
    "    starttimes[k] = obspy.UTCDateTime(tab['time'][k]).timestamp\n",
    "    \n",
    "tab['starttimes'] = pd.Series(starttimes) # and put it in the dataframe\n",
    "tab = tab[tab.starttimes>0.0]\n",
    "\n",
    "print(tab['time'].iloc[0],tab['time'].iloc[-1])\n",
    "plt.plot(tab.starttimes)\n",
    "plt.xlabel('event number in sequence')\n",
    "plt.ylabel('start time (data time, s)')"
   ]
  },
  {
   "cell_type": "code",
   "execution_count": 79,
   "metadata": {},
   "outputs": [],
   "source": [
    "# # Sort the dataframe according to time stamps\n",
    "# tab = tab.sort_values(by=['starttimes'])\n",
    "\n",
    "# # And reset indices\n",
    "# tab = tab.reset_index()\n",
    "# print(tab.columns)\n",
    "# NbEvents = len(tab['time'])\n",
    "# print('There are ' + str(NbEvents) + ' events left')\n",
    "\n",
    "# plt.plot(tab.starttimes)\n",
    "# plt.xlabel('event number in sequence')\n",
    "# plt.ylabel('start time (movie time, s)')"
   ]
  },
  {
   "cell_type": "code",
   "execution_count": 80,
   "metadata": {},
   "outputs": [
    {
     "name": "stdout",
     "output_type": "stream",
     "text": [
      "There remain 15865 events\n",
      "The biggest is 5.4\n",
      "Int64Index([], dtype='int64')\n",
      "Int64Index([8511], dtype='int64')\n"
     ]
    }
   ],
   "source": [
    "#tab = tab.drop(columns=['level_0'])\n",
    "# Get rid of events of lower magnitude\n",
    " \n",
    "tab.mag = pd.to_numeric(tab.mag, errors='coerce')\n",
    "tab = tab.drop(tab[tab['mag'] < minMag].index)\n",
    "tab = tab.drop(tab[tab['mag'] > maxMag].index)\n",
    "N_evts = len(tab['mag'])\n",
    "print('There remain ' + str(N_evts) + ' events')\n",
    "maxMag = np.amax(tab['mag'])\n",
    "print('The biggest is ' + str(maxMag))\n",
    "\n",
    "# And reset indices\n",
    "\n",
    "tab = tab.reset_index()\n",
    "\n",
    "#print(tab)\n",
    "\n",
    "print(tab.index[tab.id=='hv70352901'])\n",
    "print(tab.index[tab.id=='hv70359161'])"
   ]
  },
  {
   "cell_type": "code",
   "execution_count": 81,
   "metadata": {},
   "outputs": [
    {
     "name": "stdout",
     "output_type": "stream",
     "text": [
      "5.4\n",
      "2.5\n",
      "us2000dyks\n",
      "hv70564787\n",
      "15864\n"
     ]
    },
    {
     "data": {
      "text/plain": [
       "Text(0, 0.5, 'magnitude')"
      ]
     },
     "execution_count": 81,
     "metadata": {},
     "output_type": "execute_result"
    },
    {
     "data": {
      "image/png": "[encoded data removed]",
      "text/plain": [
       "<Figure size 360x216 with 1 Axes>"
      ]
     },
     "metadata": {
      "needs_background": "light"
     },
     "output_type": "display_data"
    }
   ],
   "source": [
    "fig = plt.figure(figsize = (5,3))\n",
    "titletext = 'Events: ' + str(tab['time'].iloc[0])+ '-' + str(tab['time'].iloc[-1])\n",
    "\n",
    "# for zoomOneCycle\n",
    "# istart = 15463 \n",
    "# iend = 16052\n",
    "# # interval = 590 not used anymore\n",
    "istart = 0 \n",
    "iend = len(tab)-1\n",
    "\n",
    "\n",
    "\n",
    "maxMag = np.amax(tab['mag'][istart:iend])\n",
    "minMag = np.amin(tab['mag'][istart:iend])\n",
    "print(maxMag)\n",
    "print(minMag)\n",
    "print(tab.id.iloc[istart])\n",
    "print(tab.id.iloc[iend])\n",
    "print(len(tab['starttimes'][istart:iend]))\n",
    "#plt.plot(time_years,tab['mag'],'.k')\n",
    "plt.plot(tab['starttimes'][istart:iend],tab['mag'][istart:iend],'.k')\n",
    "plt.title(titletext)\n",
    "plt.xlabel('time [UTC]')\n",
    "plt.ylabel('magnitude')"
   ]
  },
  {
   "cell_type": "code",
   "execution_count": 82,
   "metadata": {},
   "outputs": [],
   "source": [
    "# fig_path = './'\n",
    "# figname_map = fig_path + 'catalog_plot' +'.png'\n",
    "# fig.savefig(figname_map, pad_inches=0.0, bbox_inches='tight', dpi=300)"
   ]
  },
  {
   "cell_type": "markdown",
   "metadata": {},
   "source": [
    "# Movie parameters"
   ]
  },
  {
   "cell_type": "code",
   "execution_count": 83,
   "metadata": {},
   "outputs": [
    {
     "name": "stdout",
     "output_type": "stream",
     "text": [
      "180\n"
     ]
    }
   ],
   "source": [
    "### THESE SHOULD BE IN INFOPICKLES\n",
    "\n",
    "#movie_duration = 120.0 #*interval/len(tab.id) # in seconds\n",
    "print(movie_duration)\n",
    "movie_dt = 1/29.97 #0.1 # in seconds\n",
    "movie_t = np.arange(0,movie_duration,movie_dt) \n",
    "# what is this movie dt ?  10 frames per sec? "
   ]
  },
  {
   "cell_type": "code",
   "execution_count": 84,
   "metadata": {},
   "outputs": [
    {
     "name": "stdout",
     "output_type": "stream",
     "text": [
      "11764169.079999924\n"
     ]
    }
   ],
   "source": [
    "# rescale data start times to movie time\n",
    "max_starttime = np.amax(tab['starttimes'][istart:iend]-tab['starttimes'][istart])\n",
    "print(max_starttime)\n",
    "movie_starttimes = (tab['starttimes'][istart:iend]-tab['starttimes'][istart])*movie_duration/max_starttime\n",
    "#print(movie_starttimes)"
   ]
  },
  {
   "cell_type": "markdown",
   "metadata": {},
   "source": [
    "# Sound parameters"
   ]
  },
  {
   "cell_type": "code",
   "execution_count": 85,
   "metadata": {},
   "outputs": [
    {
     "name": "stdout",
     "output_type": "stream",
     "text": [
      "/home/ben/Dropbox/x03_datamovies/Kilauea_2018\n",
      "Index(['name', 'lon', 'lat'], dtype='object')\n"
     ]
    }
   ],
   "source": [
    "# NUMBER OF SPEAKERS! \n",
    "N_speakers = 2\n",
    "!pwd\n",
    "pklname = 'spkrs' + str(N_speakers) + '_' + FOV + '.pkl'\n",
    "spkrs = pd.read_pickle(pklname)\n",
    "print(spkrs.columns)\n",
    "\n",
    "OldStereoWay = 0"
   ]
  },
  {
   "cell_type": "code",
   "execution_count": 86,
   "metadata": {},
   "outputs": [
    {
     "name": "stdout",
     "output_type": "stream",
     "text": [
      "466.6666666666667\n"
     ]
    }
   ],
   "source": [
    "real_event_dur = 70.0 # seconds\n",
    "#new_event_dur = 0.3 #0.4 # seconds  0.1 is too fast\n",
    "#new_event_dur = 0.3 #/0.35 #0.4 # seconds  0.1 is too fast\n",
    "# MOVED this parameter definition up top into the zoom or full view settings. \n",
    "\n",
    "SpeedFactor = real_event_dur/new_event_dur\n",
    "print(SpeedFactor)\n",
    "\n",
    "data_sr = 100.\n",
    "audio_sr = 44100\n"
   ]
  },
  {
   "cell_type": "code",
   "execution_count": 87,
   "metadata": {},
   "outputs": [
    {
     "name": "stdout",
     "output_type": "stream",
     "text": [
      "Index(['index', 'time', 'lat', 'lon', 'depth', 'mag',\n",
      "       'dist from Halemaumau (degrees)', 'id', 'type', 'horizontalError',\n",
      "       'depthError', 'magError', 'starttimes'],\n",
      "      dtype='object')\n"
     ]
    }
   ],
   "source": [
    "#data = np.loadtxt(DataDir + 'hv70068046.txt',delimiter=',', skiprows=1)\n",
    "#data[:,1]\n",
    "print(tab.columns)"
   ]
  },
  {
   "cell_type": "code",
   "execution_count": 88,
   "metadata": {},
   "outputs": [
    {
     "name": "stdout",
     "output_type": "stream",
     "text": [
      "0 of 15864\n",
      "1000 of 15864\n",
      "2000 of 15864\n",
      "3000 of 15864\n",
      "4000 of 15864\n",
      "5000 of 15864\n",
      "6000 of 15864\n",
      "7000 of 15864\n",
      "8000 of 15864\n",
      "9000 of 15864\n",
      "10000 of 15864\n",
      "11000 of 15864\n",
      "12000 of 15864\n",
      "13000 of 15864\n",
      "14000 of 15864\n",
      "15000 of 15864\n",
      "0 files not found\n"
     ]
    },
    {
     "data": {
      "text/plain": [
       "Text(0.5, 1.0, 'Speedfactor = 466.6666666666667, sr = 100.0Hz')"
      ]
     },
     "execution_count": 88,
     "metadata": {},
     "output_type": "execute_result"
    },
    {
     "data": {
      "image/png": "[encoded data removed]",
      "text/plain": [
       "<Figure size 432x288 with 1 Axes>"
      ]
     },
     "metadata": {
      "needs_background": "light"
     },
     "output_type": "display_data"
    }
   ],
   "source": [
    "filenotfoundlist = []\n",
    "\n",
    "#istart = 0\n",
    "#interval = len(tab)-2\n",
    "\n",
    "for isp in range(N_speakers): \n",
    "    exec('track_' + str(isp+1) + '= np.zeros(int(movie_duration*audio_sr))')\n",
    "\n",
    "\n",
    "for k in range(istart,iend): #(0,N_evts-1): #range(100,101): #\n",
    "#for k in range(0,50):\n",
    "    if k%1000==0:\n",
    "        print(str(k)+' of '+str(iend-istart))\n",
    "    current_id = tab['id'][k]\n",
    "    #print(current_id)\n",
    "\n",
    "    # Build the name of the file to load\n",
    "#     currentjulday = obspy.UTCDateTime(tab['starttimes'][k]).julday\n",
    "#     current_filename = makefilenamestring(currentjulday)\n",
    "    current_filename = current_id+'.txt'\n",
    "    \n",
    "    if os.path.exists(DataDir + current_filename): # Test if file exists\n",
    "        #print(current_filename)\n",
    "        \n",
    "        # Test if the data is not going beyond the limits we set for the sound track\n",
    "        # FIX this so that there is extra time at the end ! \n",
    "        if movie_starttimes[k]+real_event_dur/SpeedFactor < movie_duration: \n",
    "            # Load data\n",
    "            data = np.loadtxt(DataDir + current_filename,delimiter=',', skiprows=1)\n",
    "            data = data[:,1]\n",
    "\n",
    "            if len(data) > .75*(real_event_dur*data_sr): # Process only if the data is long enough (entire data should be 20 s @ 500 Hz)\n",
    "                data = data - np.mean(data) # de-mean (already did this in obspy getting the data)\n",
    "                \n",
    "                # NORMALIZE\n",
    "                data = data/np.amax(np.absolute(data)) # normalize\n",
    "                #print(data[0:5])\n",
    "                #data = data*(tab['mag'][k]/(2*maxMag)) # TEST -- linear mapping of magnitude to amplitude \n",
    "                \n",
    "                distances = np.zeros(N_speakers)\n",
    "                sum__ = 0\n",
    "                for isp in range(N_speakers):\n",
    "                    distances[isp] = dbap.EuclDistance([tab.lon[k],tab.lat[k]],[spkrs.lon[isp],spkrs.lat[isp]])\n",
    "                    #print(distances)\n",
    "                    sum__ = sum__+1/(distances[isp]**2)\n",
    "                    \n",
    "                #print(sum__)\n",
    "                #print(distances) \n",
    "                C = np.sqrt(1/sum__) # normalization constant\n",
    "                #print(C)\n",
    "                #print(max(data))\n",
    "                # SCALE DATA BY MAGNITUDE (linear mapping)\n",
    "                data = data*np.interp(tab['mag'][k],[minMag,maxMag],[0.0001,1]) # used to be [0.001,1.0] #used to be [0.001,1.0]\n",
    "                #print(max(data))\n",
    "                # ADD TO THE SOUNDTRACK! \n",
    "                \n",
    "                i_start = int(movie_starttimes[k]*audio_sr)               \n",
    "                #print(distances)\n",
    "                for isp in range(N_speakers):\n",
    "                    # DBAP scaling ! \n",
    "                    #print(max(data))\n",
    "                    data_db = data*C/distances[isp]\n",
    "                    \n",
    "                    # RESAMPLE\n",
    "                    data_resampled = resampy.resample(data_db, data_sr*SpeedFactor, audio_sr) # resample to audio rate\n",
    "                    i_end = i_start+len(data_resampled)\n",
    "                    exec('track_' + str(isp+1) + '[i_start:i_end] = track_' + str(isp+1) + '[i_start:i_end] + data_resampled')\n",
    "                    # which reads \"track_0[start_index:end_index] = track_0[start_index:end_index] + click*C/distance[0]\"\n",
    "\n",
    "\n",
    "        else:\n",
    "            balbal = 2\n",
    "            #print('\\t Not processing file ' + current_filename + ' because it would exceed the length of the soundtrack')\n",
    "    else:\n",
    "        #print('File ' + current_filename + ' does not exist...')\n",
    "        filenotfoundlist.append(current_filename)\n",
    "        \n",
    "        \n",
    "print(str(len(filenotfoundlist))+' files not found')\n",
    "\n",
    "fig = plt.figure(figsize = (6,4))\n",
    "sigtime = np.linspace(0,20.0,len(data))  \n",
    "plt.plot(sigtime,data, 'k')\n",
    "titletext = 'Speedfactor = ' + str(SpeedFactor)+ ', sr = ' + str(data_sr) + 'Hz'\n",
    "plt.xlabel('time [s]')\n",
    "plt.ylabel('velocity')\n",
    "plt.title(titletext)\n",
    "\n",
    "#ch_l[int(movie_starttimes[k]*audio_sr):int(movie_starttimes[k]*audio_sr+len(data_resampled_l))] = \\\n",
    "                  #  ch_l[int(movie_starttimes[k]*audio_sr):int(movie_starttimes[k]*audio_sr+len(data_resampled_l))] + data_resampled_l"
   ]
  },
  {
   "cell_type": "code",
   "execution_count": 89,
   "metadata": {},
   "outputs": [
    {
     "name": "stdout",
     "output_type": "stream",
     "text": [
      "[1.3130301790383732, 0.9728850138397986]\n",
      "1.3130301790383732\n",
      "filenameforexport = \"kil2018_full_dur180_edur0p15_M2p5_6p5track_1of2.wav\"\n",
      "filenameforexport = \"kil2018_full_dur180_edur0p15_M2p5_6p5track_2of2.wav\"\n"
     ]
    },
    {
     "data": {
      "image/png": "[encoded data removed]",
      "text/plain": [
       "<Figure size 432x288 with 1 Axes>"
      ]
     },
     "metadata": {
      "needs_background": "light"
     },
     "output_type": "display_data"
    }
   ],
   "source": [
    "max_all = []\n",
    "for isp in range(N_speakers):\n",
    "    exec('max_all.append(max(track_'+str(isp+1)+'))')\n",
    "print(max_all)\n",
    "\n",
    "DirOut = './'\n",
    "\n",
    "maxmax = max(max_all)\n",
    "print(maxmax)\n",
    "for isp in range(N_speakers):\n",
    "    cmd = 'filenameforexport = \"' + soundrootname + 'track_' + str(isp+1) + 'of' + str(N_speakers) + '.wav\"'\n",
    "    print(cmd)\n",
    "    exec(cmd)\n",
    "    exec('track_'+str(isp+1)+'= track_'+str(isp+1)+'/maxmax')\n",
    "    exec('librosa.output.write_wav(DirOut + filenameforexport, track_'+str(isp+1)+', audio_sr, norm=False)')\n",
    "    exec('plt.plot(track_'+str(isp+1)+')')\n"
   ]
  },
  {
   "cell_type": "code",
   "execution_count": null,
   "metadata": {},
   "outputs": [],
   "source": [
    "print(tab.columns)\n",
    "print(tab.time.iloc[-1],tab.id.iloc[-1])"
   ]
  },
  {
   "cell_type": "code",
   "execution_count": null,
   "metadata": {},
   "outputs": [],
   "source": [
    "29.9700/30.0000\n"
   ]
  },
  {
   "cell_type": "code",
   "execution_count": null,
   "metadata": {},
   "outputs": [],
   "source": []
  },
  {
   "cell_type": "code",
   "execution_count": null,
   "metadata": {},
   "outputs": [],
   "source": []
  },
  {
   "cell_type": "code",
   "execution_count": null,
   "metadata": {},
   "outputs": [],
   "source": []
  },
  {
   "cell_type": "code",
   "execution_count": null,
   "metadata": {},
   "outputs": [],
   "source": []
  },
  {
   "cell_type": "code",
   "execution_count": null,
   "metadata": {},
   "outputs": [],
   "source": []
  },
  {
   "cell_type": "code",
   "execution_count": null,
   "metadata": {},
   "outputs": [],
   "source": []
  },
  {
   "cell_type": "code",
   "execution_count": null,
   "metadata": {},
   "outputs": [],
   "source": []
  },
  {
   "cell_type": "code",
   "execution_count": null,
   "metadata": {},
   "outputs": [],
   "source": [
    "#DirOut = DirCatalog\n",
    "DirOut = './'\n",
    "for isp in range(N_speakers):\n",
    "    filenameforexport = 'Kilauea2018_track_'+str(isp) +'.wav'\n",
    "    SoundTrack = SoundTrack/np.amax(SoundTrack)# normalize\n",
    "    librosa.output.write_wav(DirOut + filenameforexport, SoundTrack, audio_sr, norm=True)"
   ]
  },
  {
   "cell_type": "code",
   "execution_count": null,
   "metadata": {},
   "outputs": [],
   "source": []
  },
  {
   "cell_type": "code",
   "execution_count": null,
   "metadata": {},
   "outputs": [],
   "source": []
  },
  {
   "cell_type": "code",
   "execution_count": null,
   "metadata": {},
   "outputs": [],
   "source": [
    "if OldStereoWay == 1:\n",
    "    SoundTrack = np.zeros((2,int(movie_duration*audio_sr)))\n",
    "    ch_l = np.zeros(int(movie_duration*audio_sr))\n",
    "    ch_r = np.zeros(int(movie_duration*audio_sr))\n",
    "    print(len(ch_l))\n",
    "    # weighting between L and R channels\n",
    "    tab.lon = pd.to_numeric(tab.lon, errors='coerce')\n",
    "\n",
    "    stereo_r = (tab.lon-min(tab.lon))/(max(tab.lon)-min(tab.lon))\n",
    "    stereo_l = 1-stereo_r\n",
    "#    plt.plot(stereo_r[0:10])\n",
    "#    plt.plot(stereo_l[0:10])\n"
   ]
  },
  {
   "cell_type": "code",
   "execution_count": null,
   "metadata": {},
   "outputs": [],
   "source": [
    "filenotfoundlist = []\n",
    "\n",
    "# ANY SCALING OF THE AMPLITUDE BY MAGNITUDE \n",
    "# or are all sounds normalized to same value ? \n",
    "\n",
    "\n",
    "for k in range(istart,istart+interval): #(0,N_evts-1): #range(100,101): #\n",
    "#for k in range(0,50):\n",
    "    if k%1000==0:\n",
    "        print(str(k)+' of '+str(interval))\n",
    "    current_id = tab['id'][k]\n",
    "    #print(current_id)\n",
    "\n",
    "    # Build the name of the file to load\n",
    "#     currentjulday = obspy.UTCDateTime(tab['starttimes'][k]).julday\n",
    "#     current_filename = makefilenamestring(currentjulday)\n",
    "    current_filename = current_id+'.txt'\n",
    "    \n",
    "    if os.path.exists(DataDir + current_filename): # Test if file exists\n",
    "        #print(current_filename)\n",
    "        \n",
    "        # Test if the data is not going beyond the limits we set for the sound track\n",
    "        # FIX this so that there is extra time at the end ! \n",
    "        if movie_starttimes[k]+real_event_dur/SpeedFactor < movie_duration: \n",
    "            # Load data\n",
    "            data = np.loadtxt(DataDir + current_filename,delimiter=',', skiprows=1)\n",
    "            data = data[:,1]\n",
    "\n",
    "            if len(data) > .75*(real_event_dur*data_sr): # Process only if the data is long enough (entire data should be 20 s @ 500 Hz)\n",
    "                #data = data - np.mean(data) # de-mean (already did this in obspy getting the data)\n",
    "                \n",
    "                # NORMALIZE\n",
    "                data = data/np.amax(np.absolute(data)) # normalize\n",
    "                #data = data*(tab['mag'][k]/(2*maxMag)) # TEST -- linear mapping of magnitude to amplitude \n",
    "                \n",
    "                # SCALE amplitude BY MAGNITUDE \n",
    "                data = data*np.interp(tab['mag'][k],[minMag,maxMag],[0.001,1])\n",
    "                \n",
    "                # WEIGHT AMPLITUDE BY DISTANCE ! DBAP  \n",
    "                data_l = data*stereo_l[k]\n",
    "                data_r = data*stereo_r[k]\n",
    "                \n",
    "\n",
    "                # RESAMPLE\n",
    "                data_resampled_l = resampy.resample(data_l, data_sr*SpeedFactor, audio_sr) # resample to audio rate\n",
    "                data_resampled_r = resampy.resample(data_r, data_sr*SpeedFactor, audio_sr) # resample to audio rate\n",
    "                #t_resampled = np.arange(0,len(data_resampled)/audio_sr,1/audio_sr)\n",
    "                #plt.plot(t_resampled,data_resampled)\n",
    "\n",
    "                # Fill the appropriate part of the sound track with the newly audified data\n",
    "#                 SoundTrack[int(movie_starttimes[k]*audio_sr):int(movie_starttimes[k]*audio_sr+len(data_resampled))] = \\\n",
    "#                     SoundTrack[int(movie_starttimes[k]*audio_sr):int(movie_starttimes[k]*audio_sr+len(data_resampled))] + data_resampled\n",
    "\n",
    "                ch_l[int(movie_starttimes[k]*audio_sr):int(movie_starttimes[k]*audio_sr+len(data_resampled_l))] = \\\n",
    "                    ch_l[int(movie_starttimes[k]*audio_sr):int(movie_starttimes[k]*audio_sr+len(data_resampled_l))] + data_resampled_l\n",
    "    \n",
    "                ch_r[int(movie_starttimes[k]*audio_sr):int(movie_starttimes[k]*audio_sr+len(data_resampled_r))] = \\\n",
    "                    ch_r[int(movie_starttimes[k]*audio_sr):int(movie_starttimes[k]*audio_sr+len(data_resampled_r))] + data_resampled_r\n",
    "        else:\n",
    "            balbal = 2\n",
    "            #print('\\t Not processing file ' + current_filename + ' because it would exceed the length of the soundtrack')\n",
    "    else:\n",
    "        #print('File ' + current_filename + ' does not exist...')\n",
    "        filenotfoundlist.append(current_filename)\n",
    "        \n",
    "        \n",
    "print(str(len(filenotfoundlist))+' files not found')\n",
    "\n",
    "fig = plt.figure(figsize = (6,4))\n",
    "sigtime = np.linspace(0,20.0,len(data))  \n",
    "plt.plot(sigtime,data, 'k')\n",
    "titletext = 'Speedfactor = ' + str(SpeedFactor)+ ', sr = ' + str(data_sr) + 'Hz'\n",
    "plt.xlabel('time [s]')\n",
    "plt.ylabel('velocity')\n",
    "plt.title(titletext)\n",
    "                #t_data = np.arange(0,len(data)/data_sr,1/data_sr)\n",
    "                #plt.plot(t_data,data)\n",
    "                #plt.xlabel('t (s)')"
   ]
  },
  {
   "cell_type": "code",
   "execution_count": null,
   "metadata": {},
   "outputs": [],
   "source": [
    "plt.plot(ch_l)\n",
    "plt.savefig('ch_l_0.001:1_maxmag5.3.png')"
   ]
  },
  {
   "cell_type": "code",
   "execution_count": null,
   "metadata": {},
   "outputs": [],
   "source": [
    "SoundTrack[0,:] = ch_l\n",
    "SoundTrack[1,:] = ch_r"
   ]
  },
  {
   "cell_type": "markdown",
   "metadata": {},
   "source": [
    "# And export the sound file"
   ]
  },
  {
   "cell_type": "code",
   "execution_count": null,
   "metadata": {},
   "outputs": [],
   "source": [
    "#DirOut = DirCatalog\n",
    "DirOut = './'\n",
    "filenameforexport = 'Kilauea2018_full_'+station_name +'.wav'\n",
    "SoundTrack = SoundTrack/np.amax(SoundTrack)# normalize\n",
    "librosa.output.write_wav(DirOut + filenameforexport, SoundTrack, audio_sr, norm=True)"
   ]
  },
  {
   "cell_type": "code",
   "execution_count": null,
   "metadata": {},
   "outputs": [],
   "source": [
    "\n",
    "\n",
    "# nfiles = len(tab.valid)\n",
    "# print(nfiles)\n",
    "# print(type(tab.valid.iloc[12]))\n",
    "\n",
    "# count = 0\n",
    "# for i in range(1,nfiles):\n",
    "#     validity = int(tab.valid.iloc[i])\n",
    "#     if validity==1:\n",
    "#         count += 1\n",
    "\n",
    "# print(count)\n",
    "\n",
    "\n"
   ]
  },
  {
   "cell_type": "code",
   "execution_count": null,
   "metadata": {},
   "outputs": [],
   "source": [
    "# npts = 7000\n",
    "# ntot = len(datamat)\n",
    "# nfiles = int(np.floor(ntot/(npts-1)))\n",
    "\n",
    "# print(nfiles)"
   ]
  },
  {
   "cell_type": "code",
   "execution_count": null,
   "metadata": {},
   "outputs": [],
   "source": [
    "# old stuff\n",
    "\n",
    "#tab = pd.read_csv(DirCatalog + FileCatalog, header=None, delimiter=',', \\\n",
    "#                 names = ['years','months','days','hours','minutes','seconds','lat','lon','dep','mag','degrees','id'])\n",
    "#names_vec = ['time','lat','lon','dep','mag','degrees','id', 'type', 'error1', 'error2', 'error3','valid']\n",
    "#tab = pd.read_csv(DirCatalog + FileCatalog, header=None, delimiter=',', names=names_vec)\n",
    "\n",
    "\n",
    "# DirCatalog = 'data/'\n",
    "#DirData = '/home/ben/data/Kilauea/eqcatalogdata/'  # for waveforms, add /AL4Catalog = '/Volumes/linux/ML_data/NWGeysers/GeysersNW_data/'\n",
    "#DataFile = 'top100k.txt'\n",
    "#DataFile = 'Kilauea_eq_OBL.txt'\n",
    "\n",
    "#datamat = np.loadtxt(DirData+DataFile, delimiter=',', skiprows=1)\n",
    "#print(datamat.shape)\n",
    "\n",
    "# tex = obspy.UTCDateTime(tab.time[0])\n",
    "# print(tex)\n",
    "# print(tex.timestamp)\n",
    "# #tab.time[0]"
   ]
  },
  {
   "cell_type": "code",
   "execution_count": null,
   "metadata": {},
   "outputs": [],
   "source": [
    "# nfiles_cat = len(tab.id)\n",
    "# print(nfiles_cat)\n",
    "# count = 0\n",
    "\n",
    "# for i in range(1,nfiles_cat-1):\n",
    "#     validity = int(tab.valid.iloc[i])\n",
    "#     if validity==1:        \n",
    "#         start = count*npts\n",
    "#         fin = start+npts\n",
    "#         #print(start,fin)\n",
    "#         time = datamat[start:fin,0]\n",
    "#         #print(time[0])\n",
    "#         trace = datamat[start:fin,1] \n",
    "#         name = tab.id[i] + '.txt'\n",
    "#         np.savetxt(DirData+'waveforms_test/'+name, trace)\n",
    "        \n",
    "#         count += 1\n",
    "        \n",
    "# print(count)"
   ]
  }
 ],
 "metadata": {
  "kernelspec": {
   "display_name": "Python 3",
   "language": "python",
   "name": "python3"
  },
  "language_info": {
   "codemirror_mode": {
    "name": "ipython",
    "version": 3
   },
   "file_extension": ".py",
   "mimetype": "text/x-python",
   "name": "python",
   "nbconvert_exporter": "python",
   "pygments_lexer": "ipython3",
   "version": "3.7.6"
  }
 },
 "nbformat": 4,
 "nbformat_minor": 4
}
